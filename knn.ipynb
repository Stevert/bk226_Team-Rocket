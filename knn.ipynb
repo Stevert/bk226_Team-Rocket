{
  "nbformat": 4,
  "nbformat_minor": 0,
  "metadata": {
    "colab": {
      "name": "knn.ipynb",
      "provenance": []
    },
    "kernelspec": {
      "name": "python3",
      "display_name": "Python 3"
    }
  },
  "cells": [
    {
      "cell_type": "code",
      "metadata": {
        "id": "8IF8sAfTbrOe",
        "colab_type": "code",
        "colab": {
          "base_uri": "https://localhost:8080/",
          "height": 542
        },
        "outputId": "e32a736a-99b7-4252-bc9f-5540157c6540"
      },
      "source": [
        "import plotly.express as px\n",
        "fig = px.scatter_3d(df1, x='S1 Input PT', y='S1 Output PT', z='S1 Output Flow',\n",
        "              color='Class')\n",
        "fig.show()"
      ],
      "execution_count": 21,
      "outputs": [
        {
          "output_type": "display_data",
          "data": {
            "text/html": [
              "<html>\n",
              "<head><meta charset=\"utf-8\" /></head>\n",
              "<body>\n",
              "    <div>\n",
              "            <script src=\"https://cdnjs.cloudflare.com/ajax/libs/mathjax/2.7.5/MathJax.js?config=TeX-AMS-MML_SVG\"></script><script type=\"text/javascript\">if (window.MathJax) {MathJax.Hub.Config({SVG: {font: \"STIX-Web\"}});}</script>\n",
              "                <script type=\"text/javascript\">window.PlotlyConfig = {MathJaxConfig: 'local'};</script>\n",
              "        <script src=\"https://cdn.plot.ly/plotly-latest.min.js\"></script>    \n",
              "            <div id=\"cacbc686-b596-4d0d-a14c-4eac47778d80\" class=\"plotly-graph-div\" style=\"height:525px; width:100%;\"></div>\n",
              "            <script type=\"text/javascript\">\n",
              "                \n",
              "                    window.PLOTLYENV=window.PLOTLYENV || {};\n",
              "                    \n",
              "                if (document.getElementById(\"cacbc686-b596-4d0d-a14c-4eac47778d80\")) {\n",
              "                    Plotly.newPlot(\n",
              "                        'cacbc686-b596-4d0d-a14c-4eac47778d80',\n",
              "                        [{\"hoverlabel\": {\"namelength\": 0}, \"hovertemplate\": \"Class=Z<br>S1 Input PT=%{x}<br>S1 Output PT=%{y}<br>S1 Output Flow=%{z}\", \"legendgroup\": \"Class=Z\", \"marker\": {\"color\": \"#636efa\", \"symbol\": \"circle\"}, \"mode\": \"markers\", \"name\": \"Class=Z\", \"scene\": \"scene\", \"showlegend\": true, \"type\": \"scatter3d\", \"x\": [5.0, 5.0, 5.0, 5.0, 5.0, 5.0, 5.0, 4.99, 4.99, 5.0, 5.0, 5.0, 5.0, 5.0, 5.02, 5.02, 5.02, 5.02, 5.01, 5.01, 5.01, 5.01, 5.01, 5.01, 5.01, 5.01, 5.01, 2.01, 1.9, 1.79, 1.68, 1.57, 1.46, 1.35, 1.24, 5.0, 5.0, 5.0, 5.0, 5.0, 5.0, 5.0, 4.94, 4.93, 4.93, 4.93, 4.95, 4.96, 4.96, 4.96, 4.98, 5.0, 5.03, 5.03, 5.05, 5.05, 5.05, 5.08, 5.08, 5.16, 5.16, 5.25, 5.25, 5.26, 5.23, 5.21, 5.21, 5.18, 5.18, 5.16, 5.16, 5.15, 5.0, 5.0, 5.0, 5.0, 5.0, 5.0, 5.0, 5.0, 5.03, 5.03, 5.01, 5.04, 5.04, 5.03, 5.03, 5.02, 5.02, 5.02, 5.03, 5.0, 5.0, 5.0, 4.98, 4.98, 4.99, 5.0, 5.0, 5.0, 5.0, 5.0, 5.0, 5.0, 5.0, 4.99, 4.99, 4.99, 4.99, 5.0, 5.0, 4.98, 5.0, 5.0, 5.0, 5.0, 5.0, 5.02, 5.02, 5.0, 5.0, 5.0, 5.0, 4.99, 4.99, 4.99, 5.0, 5.0, 5.0, 5.0, 4.99, 4.99, 5.01, 5.0, 5.0, 4.99, 4.99, 4.99, 4.99, 4.99, 4.99, 5.01, 5.01, 5.01, 5.01, 5.01, 5.0, 5.0, 5.0, 5.0, 4.99, 4.99, 4.99, 5.0, 5.01, 5.01, 5.81, 5.83, 5.88, 5.88, 5.95, 6.03, 6.03, 6.03, 4.49, 4.5, 4.5, 4.5, 4.49, 4.49, 4.51, 4.5, 4.49, 4.5, 4.49, 4.51, 4.49, 4.5, 4.5, 4.49, 4.49, 5.0, 5.0, 5.0, 5.0, 5.0, 5.0, 5.0, 4.99, 4.99, 5.0, 5.0, 5.0, 5.0, 5.0, 5.01, 4.5, 4.16, 3.8, 3.34, 2.98, 2.58, 1.93, 1.85, 1.18, 5.0, 5.0, 5.0, 5.0, 5.0, 5.0, 4.5, 4.5, 4.5, 4.5, 4.5, 4.5, 4.5, 4.5, 4.5, 4.5, 4.5, 4.5, 4.5, 4.5, 4.5, 4.5, 4.5, 5.0, 5.0, 5.0, 5.0, 5.0, 5.0, 5.0, 4.99, 4.99, 5.0, 5.0, 5.0, 5.0, 5.0, 5.01, 4.49, 4.0, 3.68, 3.35, 2.83, 2.42, 1.74, 1.41, 1.03, 5.0, 5.0, 5.0, 5.0, 5.0, 5.0, 4.5, 4.5, 4.5, 4.5, 4.5, 4.5, 4.5, 4.5, 4.5, 4.5, 4.5, 4.5, 4.5, 4.5, 4.5, 4.5, 4.5, 5.0, 5.0, 5.0, 5.0, 5.0, 5.0, 5.0, 4.99, 4.99, 5.0, 5.0, 5.0, 5.0, 5.0, 5.01, 4.89, 4.62, 4.28, 3.64, 2.95, 2.55, 2.05, 1.75, 1.65, 5.0, 5.0, 5.0, 5.0, 5.0, 5.0, 4.5, 4.5, 4.5, 4.5, 4.5, 4.5, 4.5, 4.5, 4.5, 4.5, 4.5, 4.5, 4.5, 4.5, 4.5, 4.5, 4.5, 5.0, 5.0, 5.0, 5.0, 5.0, 5.0, 5.0, 4.99, 4.99, 5.0, 5.0, 5.0, 5.0, 5.0, 5.01, 4.74, 4.32, 3.73, 3.43, 2.74, 2.61, 2.56, 2.34, 1.78, 5.0, 5.0, 5.0, 5.0, 5.0, 5.0, 4.5, 4.5, 4.5, 4.5, 4.5, 4.5, 4.5, 4.5, 4.5, 4.5, 4.5, 4.5, 4.5, 4.5, 4.5, 4.5, 4.5, 5.0, 5.0, 5.0, 5.0, 5.0, 5.0, 5.0, 4.99, 4.99, 5.0, 5.0, 5.0, 5.0, 5.0, 5.01, 4.44, 4.06, 3.89, 3.58, 3.49, 2.82, 2.8, 2.65, 2.01, 5.0, 5.0, 5.0, 5.0, 5.0, 5.0, 4.5, 4.5, 4.5, 4.5, 4.5, 4.5, 4.5, 4.5, 4.5, 4.5, 4.5, 4.5, 4.5, 4.5, 4.5, 4.5, 4.5], \"y\": [51.08, 51.08, 51.08, 51.08, 51.08, 51.08, 51.1, 51.1, 51.1, 51.08, 51.08, 51.08, 51.08, 51.08, 51.05, 51.05, 51.05, 51.05, 51.05, 51.05, 51.05, 51.05, 51.05, 51.05, 51.05, 51.05, 51.05, 51.04, 51.04, 51.04, 51.04, 51.04, 51.04, 51.04, 51.04, 59.12, 60.37, 56.98, 54.39, 53.09, 51.09, 51.09, 51.04, 51.04, 50.0, 49.12, 48.13333333, 47.17333333, 46.21333333, 45.25333333, 44.29333333, 43.33333333, 42.37333333, 41.41333333, 40.45333333, 39.49333333, 38.53333333, 37.57333333, 36.61333333, 35.65333333, 34.69333333, 33.73333333, 32.77333333, 34.0, 51.05, 51.05, 51.05, 51.05, 51.05, 51.05, 51.05, 51.05, 45.36, 45.36, 45.36, 45.36, 45.36, 45.36, 45.36, 45.36, 45.71, 45.71, 45.71, 45.71, 45.71, 45.71, 45.71, 45.71, 45.71, 45.71, 45.71, 45.33, 45.33, 45.33, 45.33, 45.33, 45.33, 45.33, 45.33, 45.33, 45.31, 45.31, 45.31, 45.31, 45.31, 45.31, 45.31, 45.31, 45.31, 45.32, 45.32, 45.32, 45.32, 45.32, 45.32, 45.32, 45.32, 45.32, 45.32, 45.32, 45.32, 45.33, 45.33, 45.33, 45.33, 45.33, 43.91, 43.91, 43.91, 43.91, 43.9, 43.9, 43.9, 43.9, 43.89, 43.89, 43.89, 43.89, 43.89, 43.89, 43.89, 43.89, 43.89, 43.88, 43.88, 43.88, 43.88, 43.88, 43.88, 43.88, 43.88, 43.88, 43.88, 43.87, 43.87, 43.87, 43.85, 43.85, 43.87, 43.87, 43.87, 43.87, 43.87, 43.87, 48.0, 48.0, 48.0, 48.0, 48.01, 48.01, 48.01, 48.01, 48.0, 48.0, 48.0, 48.0, 48.0, 47.99, 47.98, 24.96, 29.92, 51.08, 51.08, 51.08, 51.08, 51.08, 51.08, 51.1, 51.1, 51.1, 51.08, 51.08, 51.08, 51.08, 51.08, 51.05, 51.13, 51.17, 51.27, 51.37, 51.44, 51.54, 51.6, 51.62, 51.63, 61.33, 63.68, 61.83, 61.54, 59.6, 58.25, 48.0, 48.0, 48.0, 48.0, 43.97, 41.11, 41.3, 45.0, 45.0, 45.0, 45.0, 45.0, 45.0, 45.0, 45.0, 45.0, 45.0, 51.08, 51.08, 51.08, 51.08, 51.08, 51.08, 51.1, 51.1, 51.1, 51.08, 51.08, 51.08, 51.08, 51.08, 51.05, 51.06, 51.16, 51.2, 51.22, 51.29, 51.37, 51.46, 51.47, 51.49, 58.99, 63.88, 59.22, 56.28, 52.38, 50.13, 48.0, 48.0, 48.0, 48.0, 42.11, 36.16, 33.28, 45.0, 45.0, 45.0, 45.0, 45.0, 45.0, 45.0, 45.0, 45.0, 45.0, 51.08, 51.08, 51.08, 51.08, 51.08, 51.08, 51.1, 51.1, 51.1, 51.08, 51.08, 51.08, 51.08, 51.08, 51.05, 51.15, 51.16, 51.2, 51.28, 51.34, 51.43, 51.5, 51.55, 51.56, 57.02, 61.41, 58.15, 57.31, 54.2, 51.16, 48.0, 48.0, 48.0, 48.0, 44.87, 43.19, 46.64, 45.0, 45.0, 45.0, 45.0, 45.0, 45.0, 45.0, 45.0, 45.0, 45.0, 51.08, 51.08, 51.08, 51.08, 51.08, 51.08, 51.1, 51.1, 51.1, 51.08, 51.08, 51.08, 51.08, 51.08, 51.05, 51.13, 51.21, 51.28, 51.29, 51.37, 51.4, 51.46, 51.51, 51.53, 60.52, 62.66, 60.55, 59.08, 56.84, 51.98, 48.0, 48.0, 48.0, 48.0, 47.24, 39.67, 31.23, 45.0, 45.0, 45.0, 45.0, 45.0, 45.0, 45.0, 45.0, 45.0, 45.0, 51.08, 51.08, 51.08, 51.08, 51.08, 51.08, 51.1, 51.1, 51.1, 51.08, 51.08, 51.08, 51.08, 51.08, 51.05, 51.06, 51.13, 51.15, 51.2, 51.22, 51.27, 51.33, 51.4, 51.47, 59.62, 64.46, 62.04, 57.17, 55.17, 53.68, 48.0, 48.0, 48.0, 48.0, 43.33, 36.83, 28.14, 45.0, 45.0, 45.0, 45.0, 45.0, 45.0, 45.0, 45.0, 45.0, 45.0], \"z\": [270.32, 270.32, 270.38, 270.55, 270.56, 270.56, 270.63, 270.29, 270.39, 269.91, 270.44, 270.44, 270.01, 270.65, 270.04, 270.39, 270.43, 270.78, 270.31, 270.76, 270.27, 270.27, 269.93, 270.42, 270.46, 270.62, 270.62, 270.6, 270.55, 270.55, 270.57, 270.53, 270.56, 270.01, 270.59, 169.9, 189.18, 200.76, 209.82, 249.96, 270.71, 270.05, 270.16, 270.7, 270.7, 270.29, 270.2, 270.43, 270.54, 270.54, 270.39, 281.0, 273.0, 270.22, 270.24, 270.65, 270.65, 270.49, 270.41, 270.51, 270.51, 270.18, 270.41, 270.21, 270.53, 270.57, 270.57, 270.27, 270.17, 270.45, 270.45, 270.57, 219.97, 219.97, 219.78, 219.83, 219.58, 219.97, 219.8, 219.8, 218.94, 218.94, 218.58, 218.73, 218.73, 218.91, 218.91, 218.67, 218.83, 218.8, 218.79, 220.13, 220.05, 219.95, 220.01, 220.01, 220.28, 220.24, 220.24, 220.01, 220.28, 220.34, 220.18, 220.18, 252.5, 219.99, 220.29, 220.32, 220.32, 220.17, 220.19, 220.29, 220.14, 220.22, 220.22, 220.1, 220.15, 220.16, 219.76, 220.14, 220.18, 219.75, 219.75, 219.75, 220.03, 220.05, 224.24, 224.24, 224.45, 224.48, 224.57, 224.48, 224.25, 224.4, 224.41, 224.46, 224.46, 224.37, 224.54, 224.54, 224.51, 224.67, 224.74, 224.56, 224.54, 224.54, 225.04, 225.04, 224.43, 224.65, 224.7, 224.7, 224.7, 224.79, 224.73, 224.65, 224.82, 224.77, 224.91, 224.91, 224.49, 224.63, 224.78, 224.78, 270.17, 270.17, 270.29, 270.32, 270.27, 270.58, 270.32, 270.34, 270.26, 270.09, 270.09, 270.34, 270.34, 270.68, 270.04, 270.0, 270.3, 270.32, 270.32, 270.38, 270.55, 270.56, 270.56, 270.63, 270.29, 270.39, 269.91, 270.44, 270.44, 270.01, 270.65, 270.62, 270.62, 270.6, 270.55, 270.55, 270.57, 270.53, 270.56, 270.01, 270.59, 169.9, 189.18, 200.76, 209.82, 249.96, 270.71, 270.0, 270.0, 270.0, 270.0, 261.08, 248.1, 270.0, 270.0, 270.0, 270.0, 270.0, 270.0, 270.0, 270.0, 270.0, 270.0, 270.0, 270.32, 270.32, 270.38, 270.55, 270.56, 270.56, 270.63, 270.29, 270.39, 269.91, 270.44, 270.44, 270.01, 270.65, 270.62, 270.62, 270.6, 270.55, 270.55, 270.57, 270.53, 270.56, 270.01, 270.59, 169.9, 189.18, 200.76, 209.82, 249.96, 270.71, 270.0, 270.0, 270.0, 270.0, 260.58, 254.82, 270.0, 270.0, 270.0, 270.0, 270.0, 270.0, 270.0, 270.0, 270.0, 270.0, 270.0, 270.32, 270.32, 270.38, 270.55, 270.56, 270.56, 270.63, 270.29, 270.39, 269.91, 270.44, 270.44, 270.01, 270.65, 270.62, 270.62, 270.6, 270.55, 270.55, 270.57, 270.53, 270.56, 270.01, 270.59, 169.9, 189.18, 200.76, 209.82, 249.96, 270.71, 270.0, 270.0, 270.0, 270.0, 259.31, 246.46, 270.0, 270.0, 270.0, 270.0, 270.0, 270.0, 270.0, 270.0, 270.0, 270.0, 270.0, 270.32, 270.32, 270.38, 270.55, 270.56, 270.56, 270.63, 270.29, 270.39, 269.91, 270.44, 270.44, 270.01, 270.65, 270.62, 270.62, 270.6, 270.55, 270.55, 270.57, 270.53, 270.56, 270.01, 270.59, 169.9, 189.18, 200.76, 209.82, 249.96, 270.71, 270.0, 270.0, 270.0, 270.0, 263.59, 253.07, 270.0, 270.0, 270.0, 270.0, 270.0, 270.0, 270.0, 270.0, 270.0, 270.0, 270.0, 270.32, 270.32, 270.38, 270.55, 270.56, 270.56, 270.63, 270.29, 270.39, 269.91, 270.44, 270.44, 270.01, 270.65, 270.62, 270.62, 270.6, 270.55, 270.55, 270.57, 270.53, 270.56, 270.01, 270.59, 169.9, 189.18, 200.76, 209.82, 249.96, 270.71, 270.0, 270.0, 270.0, 270.0, 259.72, 255.33, 270.0, 270.0, 270.0, 270.0, 270.0, 270.0, 270.0, 270.0, 270.0, 270.0, 270.0]}, {\"hoverlabel\": {\"namelength\": 0}, \"hovertemplate\": \"Class=A<br>S1 Input PT=%{x}<br>S1 Output PT=%{y}<br>S1 Output Flow=%{z}\", \"legendgroup\": \"Class=A\", \"marker\": {\"color\": \"#EF553B\", \"symbol\": \"circle\"}, \"mode\": \"markers\", \"name\": \"Class=A\", \"scene\": \"scene\", \"showlegend\": true, \"type\": \"scatter3d\", \"x\": [5.0, 5.0, 5.0, 5.0, 5.0, 5.0, 5.0, 5.0, 5.0, 4.49, 4.49, 4.5, 4.5, 4.5, 4.49, 4.49, 4.49, 4.49, 4.49, 4.49, 4.5, 4.5, 4.5, 4.49, 4.5, 4.5, 6.65, 6.65, 6.65, 6.65, 6.65, 6.65, 6.65, 6.65, 5.01, 5.01, 5.01, 5.01, 5.03, 5.03, 5.03, 5.03, 5.03, 5.01, 4.99, 4.99, 4.99, 5.0, 5.0, 5.0, 5.0, 5.0, 5.0, 5.0, 5.0, 5.0, 5.0, 5.0, 5.0, 5.0, 5.0, 5.0, 5.0, 5.0, 5.0, 5.0, 4.99, 5.0, 5.01, 5.01, 5.0, 5.0, 5.0, 5.0, 5.0, 5.01, 4.99, 4.99, 5.0, 5.0, 5.0, 5.0, 5.0, 5.0, 4.99, 5.0, 5.0, 5.0, 5.0, 5.0, 5.0, 5.0, 5.0, 5.0, 5.0, 5.0, 5.0, 5.0, 5.0, 5.0, 5.0, 5.0, 5.0, 5.0, 5.0, 5.0, 5.0, 5.0, 5.0, 5.0, 5.0, 5.0, 5.0, 5.0, 5.0, 5.0, 5.0, 5.0, 5.0, 5.0, 5.0, 5.0, 5.0, 5.0, 5.0, 5.0, 5.0, 5.0, 5.0, 5.0], \"y\": [55.0, 60.0, 72.13, 85.0, 90.1, 87.21, 65.0, 59.0, 51.1, 50.96, 60.96, 70.96, 80.96, 90.96, 92.96, 80.96, 60.96, 40.96, 50.58, 65.76, 75.92, 86.08, 93.08, 85.22, 65.0, 45.0, 47.66, 57.66, 69.66, 73.66, 90.66, 86.66, 71.66, 51.66, 55.72, 65.72, 75.72, 85.72, 95.72, 85.72, 75.72, 65.72, 55.72, 50.5, 58.0, 70.0, 79.0, 88.75, 98.5, 70.0, 50.0, 60.0, 74.69, 89.38, 90.0, 90.0, 75.93, 61.86, 47.79, 60.0, 74.68, 89.36, 90.0, 80.5, 71.0, 61.5, 52.0, 55.0, 64.68, 74.36, 84.04, 80.0, 75.96, 71.92, 67.88, 50.0, 56.09, 62.18, 68.27, 74.36, 80.45, 86.54, 76.0, 65.46, 54.92, 55.92, 73.19, 90.01, 107.13, 113.53, 103.0, 85.99, 71.34, 64.44, 69.0, 77.83, 93.53, 96.74, 101.23, 91.3, 83.17, 67.13, 48.43, 63.49, 73.43, 92.78, 100.6, 105.4, 88.72, 73.32, 68.13, 67.67, 55.06, 62.85, 76.08, 82.06, 92.99, 91.63, 76.1, 75.51, 75.47, 70.19, 90.15, 91.98, 93.63, 108.43, 106.29, 89.8, 78.32, 66.93], \"z\": [300.0, 367.0, 376.0, 424.185, 462.496, 369.0, 275.504, 268.0, 288.512, 250.96, 290.96, 330.96, 370.96, 410.96, 420.96, 390.96, 360.96, 330.96, 250.2, 290.2, 330.2, 370.2, 400.0, 350.0, 310.0, 270.0, 250.12, 290.97, 331.82, 372.67, 400.25, 350.26, 300.27, 260.16, 240.93, 270.89, 300.89, 350.83, 420.97, 400.77, 340.77, 280.68, 250.79, 219.59, 219.83, 220.07, 220.07, 219.83, 219.71, 219.68, 219.68, 300.0, 379.82, 459.64, 400.0, 370.5, 341.0, 311.5, 282.0, 250.0, 279.86, 309.72, 339.58, 369.44, 399.3, 429.16, 300.5, 250.5, 280.82, 311.14, 341.46, 371.78, 402.1, 300.5, 198.9, 270.0, 315.52, 361.04, 406.56, 452.08, 375.0, 297.92, 220.84, 224.43, 224.46, 300.0, 367.0, 376.0, 424.185, 462.496, 369.0, 275.504, 268.0, 288.512, 300.0, 367.0, 376.0, 424.185, 462.496, 369.0, 275.504, 268.0, 288.512, 300.0, 367.0, 376.0, 424.185, 462.496, 369.0, 275.504, 268.0, 288.512, 300.0, 367.0, 376.0, 424.185, 462.496, 369.0, 275.504, 268.0, 288.512, 300.0, 367.0, 376.0, 424.185, 462.496, 369.0, 275.504, 268.0, 288.512]}, {\"hoverlabel\": {\"namelength\": 0}, \"hovertemplate\": \"Class=C<br>S1 Input PT=%{x}<br>S1 Output PT=%{y}<br>S1 Output Flow=%{z}\", \"legendgroup\": \"Class=C\", \"marker\": {\"color\": \"#00cc96\", \"symbol\": \"circle\"}, \"mode\": \"markers\", \"name\": \"Class=C\", \"scene\": \"scene\", \"showlegend\": true, \"type\": \"scatter3d\", \"x\": [1.13, 1.45, 2.0, 2.396666667, 2.831666667, 3.266666667, 3.701666667, 4.136666667, 4.571666667, 5.006666667, 5.441666667000001, 5.876666667, 6.311666667000001, 5.0, 4.98, 3.5, 2.02, 0.54, 1.5, 2.46, 3.42, 4.38, 4.99, 4.99, 4.99, 4.99, 4.99, 4.99, 4.99, 5.01, 5.01, 4.815, 3.768333333, 2.833333333, 1.7983333330000002, 1.6983333330000001, 1.598333333, 1.4983333330000002, 1.398333333, 1.298333333, 1.4983333330000002, 1.6983333330000001, 2.833333333, 3.968333333, 5.103333333, 4.39, 4.25, 3.996666667, 3.714666667, 3.146666667, 2.769333333, 2.3443333330000002, 1.9193333330000002, 1.4943333330000002, 1.269333333, 1.9193333330000002, 2.769333333, 3.714666667, 3.996666667, 4.0, 3.5, 2.673333333, 1.928333333, 1.183333333, 0.43833333329999996, 2.0, 3.561666667, 5.123333333, 5.01, 5.01, 5.01, 3.7, 2.39, 1.08, 2.5, 3.92, 4.5, 5.05, 5.0, 5.0, 3.6, 2.21, 0.82, 2.3, 3.78, 4.8, 4.9, 5.0, 4.09, 3.69, 3.29, 2.89, 2.49, 2.09, 1.69, 1.29, 2.09, 2.89, 3.69, 4.09, 5.33, 4.01, 3.88, 2.38, 1.88, 1.88, 1.23, 1.23, 3.55, 4.33, 5.2, 5.6, 0.9, 1.59, 2.15, 2.52, 3.11, 3.42, 3.99, 4.1, 4.55, 4.67, 5.14, 5.44, 6.04, 6.52, 1.03, 1.11, 1.53, 1.65, 1.73, 2.21, 2.89, 3.04, 3.15, 3.49, 3.49, 3.91, 4.55, 4.91, 1.38, 1.58, 1.76, 1.88, 2.24, 2.27, 2.31, 2.52, 3.01, 3.2, 3.85, 4.17, 4.45, 5.06, 1.5, 1.7, 2.31, 2.35, 2.46, 3.1, 3.31, 3.85, 4.02, 4.17, 4.23, 4.9, 5.22, 5.54, 1.7, 1.86, 2.15, 2.62, 2.77, 3.3, 3.51, 3.85, 3.91, 3.96, 4.5, 4.75, 4.98, 5.2], \"y\": [51.04, 51.04, 51.03, 51.08, 51.09, 51.09, 51.09, 51.09, 51.09, 51.09, 51.09, 51.09, 55.06, 56.24, 45.33, 45.33, 45.33, 45.33, 45.33, 45.33, 45.33, 45.33, 45.33, 45.33, 45.33, 45.33, 45.33, 45.33, 45.33, 45.32, 45.32, 48.31, 48.31, 48.31, 48.31, 48.31, 48.31, 48.31, 48.31, 48.31, 48.31, 48.31, 48.31, 48.31, 48.31, 50.28, 50.28, 50.28, 50.28, 50.28, 50.28, 50.28, 50.28, 50.28, 50.28, 50.28, 50.28, 50.28, 50.28, 43.89, 43.9, 43.9, 43.9, 43.89, 43.89, 43.89, 43.89, 43.89, 43.89, 43.89, 43.89, 43.88, 43.88, 43.88, 43.88, 43.88, 43.88, 43.88, 43.88, 43.88, 43.88, 43.88, 43.87, 43.87, 43.87, 43.87, 43.87, 43.87, 45.56, 45.56, 45.56, 45.56, 45.56, 45.56, 45.56, 45.56, 45.56, 45.56, 45.57, 45.57, 45.64, 45.64, 45.64, 45.64, 45.64, 45.63, 45.64, 45.64, 45.64, 45.64, 45.63, 45.63, 51.66, 51.72, 51.82, 51.83, 51.88, 51.94, 51.95, 52.02, 52.11, 52.14, 52.23, 52.24, 55.57, 59.69, 51.59, 51.67, 51.71, 51.72, 51.74, 51.82, 51.89, 51.93, 51.93, 52.02, 52.08, 52.16, 53.74, 56.65, 51.58, 51.58, 51.59, 51.62, 51.65, 51.74, 51.82, 51.9, 51.92, 52.0, 52.07, 52.09, 54.45, 56.8, 51.53, 51.63, 51.68, 51.7, 51.79, 51.85, 51.86, 51.94, 51.94, 52.01, 52.1, 52.19, 56.73, 57.78, 51.52, 51.59, 51.68, 51.73, 51.82, 51.9, 51.92, 51.98, 52.08, 52.15, 52.19, 52.24, 54.98, 56.67], \"z\": [270.48, 270.48, 270.07, 270.04, 270.06, 270.06, 270.55, 259.87, 253.92, 229.96, 210.21, 202.5, 179.47, 175.89, 220.15, 219.88, 220.07, 219.93, 219.93, 220.12, 219.93, 220.09, 220.01, 219.84, 219.84, 220.14, 220.22, 220.21, 220.21, 220.1, 219.9, 6.63, 9.17, 4.89, 9.73, 9.73, 7.89, 10.37, 10.59, 10.59, 9.79, 10.02, 9.58, 9.32, 9.32, 270.46, 270.46, 270.39, 270.52, 270.52, 270.64, 270.3, 270.64, 270.64, 270.52, 270.14, 270.57, 270.57, 270.55, 224.53, 224.59, 224.59, 224.68, 224.66, 224.61, 224.43, 224.43, 224.68, 224.59, 224.57, 224.57, 224.6, 224.62, 224.45, 224.45, 224.57, 224.77, 224.71, 224.64, 224.77, 224.58, 224.49, 224.6, 224.65, 224.85, 224.76, 224.66, 224.79, 219.3, 219.15, 219.3, 219.24, 219.24, 219.27, 219.38, 219.45, 219.45, 219.49, 219.51, 219.43, 219.2, 219.54, 219.37, 219.19, 219.19, 219.28, 219.17, 219.29, 219.29, 219.22, 219.11, 219.11, 270.48, 270.48, 270.07, 270.04, 270.06, 270.06, 270.55, 259.87, 253.92, 229.96, 210.21, 202.5, 179.47, 175.89, 270.48, 270.48, 270.07, 270.04, 270.06, 270.06, 270.55, 259.87, 253.92, 229.96, 210.21, 202.5, 179.47, 175.89, 270.48, 270.48, 270.07, 270.04, 270.06, 270.06, 270.55, 259.87, 253.92, 229.96, 210.21, 202.5, 179.47, 175.89, 270.48, 270.48, 270.07, 270.04, 270.06, 270.06, 270.55, 259.87, 253.92, 229.96, 210.21, 202.5, 179.47, 175.89, 270.48, 270.48, 270.07, 270.04, 270.06, 270.06, 270.55, 259.87, 253.92, 229.96, 210.21, 202.5, 179.47, 175.89]}, {\"hoverlabel\": {\"namelength\": 0}, \"hovertemplate\": \"Class=I<br>S1 Input PT=%{x}<br>S1 Output PT=%{y}<br>S1 Output Flow=%{z}\", \"legendgroup\": \"Class=I\", \"marker\": {\"color\": \"#ab63fa\", \"symbol\": \"circle\"}, \"mode\": \"markers\", \"name\": \"Class=I\", \"scene\": \"scene\", \"showlegend\": true, \"type\": \"scatter3d\", \"x\": [4.5, 4.5, 4.5, 4.5, 4.5, 4.5, 4.5, 4.5, 4.5, 5.11, 5.09, 5.08, 5.08, 5.05, 5.05, 5.03, 5.91, 5.93, 5.96, 5.99, 5.99, 5.95, 4.5, 4.51, 4.5, 4.5, 4.5, 4.5, 4.5, 4.5, 4.5, 4.5, 4.48, 4.48, 4.49, 4.5, 4.49, 4.51, 4.51, 4.49, 4.51, 4.51, 4.51, 4.51, 4.51, 4.49, 4.49, 4.51, 4.5, 4.5, 4.51, 4.5, 4.5, 4.5, 4.5, 4.5, 4.5, 4.5, 4.5, 6.0, 6.0, 6.0, 6.0, 6.01, 6.0, 6.0, 6.0, 4.5, 4.5, 4.5, 4.5, 4.5, 4.5, 4.5, 4.5, 4.5, 4.51, 4.49, 4.49, 4.51, 4.5, 4.5, 4.51, 4.49, 4.49, 4.5, 4.51, 4.49, 4.49, 4.51, 4.5, 4.5, 4.51, 4.49, 4.49, 4.5, 4.51, 4.49, 4.49, 4.51, 4.5, 4.5, 4.51, 4.49, 4.49, 4.5, 4.51, 4.49, 4.49, 4.51, 4.5, 4.5, 4.51, 4.49, 4.49, 4.5, 4.51, 4.49, 4.49, 4.51, 4.5, 4.5, 4.51, 4.49, 4.49, 4.5], \"y\": [38.03, 30.03, 27.03, 25.03, 22.03, 25.03, 35.03, 40.03, 45.03, 40.0, 34.29, 28.58, 22.87, 30.0, 37.13, 44.26, 39.0, 34.13, 29.26, 24.39, 33.0, 41.61, 44.5, 41.0, 37.5, 34.0, 30.5, 27.0, 23.5, 26.0, 28.5, 31.0, 33.5, 36.0, 38.5, 42.5, 37.0, 31.5, 26.0, 24.0, 28.9, 33.8, 38.7, 43.6, 47.98, 47.98, 47.98, 37.0, 26.02, 15.04, 20.0, 45.98, 35.98, 30.98, 24.98, 20.98, 25.98, 35.98, 45.98, 39.44, 33.71, 28.89, 24.31, 27.77, 31.11, 36.67, 41.82, 38.03, 30.03, 27.03, 25.03, 22.03, 25.03, 35.03, 40.03, 45.03, 40.04, 38.72, 36.8, 34.86, 27.87, 21.09, 27.59, 28.74, 33.8, 36.65, 35.35, 32.8, 26.92, 22.35, 16.23, 11.0, 17.81, 21.22, 25.12, 27.1, 40.65, 34.74, 34.5, 30.68, 26.7, 20.87, 28.61, 35.21, 37.91, 40.28, 39.14, 34.67, 30.17, 27.52, 24.13, 16.55, 20.39, 24.23, 24.45, 26.72, 35.08, 29.39, 22.16, 20.96, 13.01, 5.84, 8.16, 11.84, 18.91, 26.07], \"z\": [260.31, 250.52, 240.32, 230.33, 220.33, 240.34, 250.34, 260.41, 265.41, 218.87, 218.75, 219.06, 219.06, 218.75, 218.84, 218.65, 224.69, 224.72, 224.92, 224.89, 224.85, 224.85, 265.0, 259.68, 254.36, 249.04, 243.72, 238.4, 233.08, 227.76, 245.0, 262.24, 270.0, 270.54, 270.27, 265.0, 259.91, 254.82, 249.73, 244.64, 225.0, 237.0, 249.0, 261.0, 270.41, 265.0, 235.0, 221.39333330000002, 234.0, 246.60666669999998, 259.2133333, 269.94, 259.94, 240.21, 230.36, 210.34, 230.36, 249.3, 269.94, 224.92, 224.59, 224.92, 224.92, 224.8, 224.74, 224.87, 224.87, 260.31, 250.52, 240.32, 230.33, 220.33, 240.34, 250.34, 260.41, 265.41, 233.27, 229.21, 221.75, 207.04, 214.51, 221.43, 226.04, 232.38, 246.12, 251.97, 246.21, 231.48, 229.66, 228.26, 230.0, 232.72, 239.41, 253.87, 263.99, 266.32, 245.58, 243.42, 233.83, 228.26, 230.67, 232.15, 234.65, 238.4, 247.79, 248.29, 242.37, 229.23, 228.54, 215.96, 222.01, 236.15, 240.45, 253.01, 267.0, 278.17, 254.67, 253.01, 250.99, 238.45, 239.58, 251.85, 255.29, 257.49, 267.24, 282.04]}],\n",
              "                        {\"legend\": {\"tracegroupgap\": 0}, \"margin\": {\"t\": 60}, \"scene\": {\"domain\": {\"x\": [0.0, 1.0], \"y\": [0.0, 1.0]}, \"xaxis\": {\"title\": {\"text\": \"S1 Input PT\"}}, \"yaxis\": {\"title\": {\"text\": \"S1 Output PT\"}}, \"zaxis\": {\"title\": {\"text\": \"S1 Output Flow\"}}}, \"template\": {\"data\": {\"bar\": [{\"error_x\": {\"color\": \"#2a3f5f\"}, \"error_y\": {\"color\": \"#2a3f5f\"}, \"marker\": {\"line\": {\"color\": \"#E5ECF6\", \"width\": 0.5}}, \"type\": \"bar\"}], \"barpolar\": [{\"marker\": {\"line\": {\"color\": \"#E5ECF6\", \"width\": 0.5}}, \"type\": \"barpolar\"}], \"carpet\": [{\"aaxis\": {\"endlinecolor\": \"#2a3f5f\", \"gridcolor\": \"white\", \"linecolor\": \"white\", \"minorgridcolor\": \"white\", \"startlinecolor\": \"#2a3f5f\"}, \"baxis\": {\"endlinecolor\": \"#2a3f5f\", \"gridcolor\": \"white\", \"linecolor\": \"white\", \"minorgridcolor\": \"white\", \"startlinecolor\": \"#2a3f5f\"}, \"type\": \"carpet\"}], \"choropleth\": [{\"colorbar\": {\"outlinewidth\": 0, \"ticks\": \"\"}, \"type\": \"choropleth\"}], \"contour\": [{\"colorbar\": {\"outlinewidth\": 0, \"ticks\": \"\"}, \"colorscale\": [[0.0, \"#0d0887\"], [0.1111111111111111, \"#46039f\"], [0.2222222222222222, \"#7201a8\"], [0.3333333333333333, \"#9c179e\"], [0.4444444444444444, \"#bd3786\"], [0.5555555555555556, \"#d8576b\"], [0.6666666666666666, \"#ed7953\"], [0.7777777777777778, \"#fb9f3a\"], [0.8888888888888888, \"#fdca26\"], [1.0, \"#f0f921\"]], \"type\": \"contour\"}], \"contourcarpet\": [{\"colorbar\": {\"outlinewidth\": 0, \"ticks\": \"\"}, \"type\": \"contourcarpet\"}], \"heatmap\": [{\"colorbar\": {\"outlinewidth\": 0, \"ticks\": \"\"}, \"colorscale\": [[0.0, \"#0d0887\"], [0.1111111111111111, \"#46039f\"], [0.2222222222222222, \"#7201a8\"], [0.3333333333333333, \"#9c179e\"], [0.4444444444444444, \"#bd3786\"], [0.5555555555555556, \"#d8576b\"], [0.6666666666666666, \"#ed7953\"], [0.7777777777777778, \"#fb9f3a\"], [0.8888888888888888, \"#fdca26\"], [1.0, \"#f0f921\"]], \"type\": \"heatmap\"}], \"heatmapgl\": [{\"colorbar\": {\"outlinewidth\": 0, \"ticks\": \"\"}, \"colorscale\": [[0.0, \"#0d0887\"], [0.1111111111111111, \"#46039f\"], [0.2222222222222222, \"#7201a8\"], [0.3333333333333333, \"#9c179e\"], [0.4444444444444444, \"#bd3786\"], [0.5555555555555556, \"#d8576b\"], [0.6666666666666666, \"#ed7953\"], [0.7777777777777778, \"#fb9f3a\"], [0.8888888888888888, \"#fdca26\"], [1.0, \"#f0f921\"]], \"type\": \"heatmapgl\"}], \"histogram\": [{\"marker\": {\"colorbar\": {\"outlinewidth\": 0, \"ticks\": \"\"}}, \"type\": \"histogram\"}], \"histogram2d\": [{\"colorbar\": {\"outlinewidth\": 0, \"ticks\": \"\"}, \"colorscale\": [[0.0, \"#0d0887\"], [0.1111111111111111, \"#46039f\"], [0.2222222222222222, \"#7201a8\"], [0.3333333333333333, \"#9c179e\"], [0.4444444444444444, \"#bd3786\"], [0.5555555555555556, \"#d8576b\"], [0.6666666666666666, \"#ed7953\"], [0.7777777777777778, \"#fb9f3a\"], [0.8888888888888888, \"#fdca26\"], [1.0, \"#f0f921\"]], \"type\": \"histogram2d\"}], \"histogram2dcontour\": [{\"colorbar\": {\"outlinewidth\": 0, \"ticks\": \"\"}, \"colorscale\": [[0.0, \"#0d0887\"], [0.1111111111111111, \"#46039f\"], [0.2222222222222222, \"#7201a8\"], [0.3333333333333333, \"#9c179e\"], [0.4444444444444444, \"#bd3786\"], [0.5555555555555556, \"#d8576b\"], [0.6666666666666666, \"#ed7953\"], [0.7777777777777778, \"#fb9f3a\"], [0.8888888888888888, \"#fdca26\"], [1.0, \"#f0f921\"]], \"type\": \"histogram2dcontour\"}], \"mesh3d\": [{\"colorbar\": {\"outlinewidth\": 0, \"ticks\": \"\"}, \"type\": \"mesh3d\"}], \"parcoords\": [{\"line\": {\"colorbar\": {\"outlinewidth\": 0, \"ticks\": \"\"}}, \"type\": \"parcoords\"}], \"pie\": [{\"automargin\": true, \"type\": \"pie\"}], \"scatter\": [{\"marker\": {\"colorbar\": {\"outlinewidth\": 0, \"ticks\": \"\"}}, \"type\": \"scatter\"}], \"scatter3d\": [{\"line\": {\"colorbar\": {\"outlinewidth\": 0, \"ticks\": \"\"}}, \"marker\": {\"colorbar\": {\"outlinewidth\": 0, \"ticks\": \"\"}}, \"type\": \"scatter3d\"}], \"scattercarpet\": [{\"marker\": {\"colorbar\": {\"outlinewidth\": 0, \"ticks\": \"\"}}, \"type\": \"scattercarpet\"}], \"scattergeo\": [{\"marker\": {\"colorbar\": {\"outlinewidth\": 0, \"ticks\": \"\"}}, \"type\": \"scattergeo\"}], \"scattergl\": [{\"marker\": {\"colorbar\": {\"outlinewidth\": 0, \"ticks\": \"\"}}, \"type\": \"scattergl\"}], \"scattermapbox\": [{\"marker\": {\"colorbar\": {\"outlinewidth\": 0, \"ticks\": \"\"}}, \"type\": \"scattermapbox\"}], \"scatterpolar\": [{\"marker\": {\"colorbar\": {\"outlinewidth\": 0, \"ticks\": \"\"}}, \"type\": \"scatterpolar\"}], \"scatterpolargl\": [{\"marker\": {\"colorbar\": {\"outlinewidth\": 0, \"ticks\": \"\"}}, \"type\": \"scatterpolargl\"}], \"scatterternary\": [{\"marker\": {\"colorbar\": {\"outlinewidth\": 0, \"ticks\": \"\"}}, \"type\": \"scatterternary\"}], \"surface\": [{\"colorbar\": {\"outlinewidth\": 0, \"ticks\": \"\"}, \"colorscale\": [[0.0, \"#0d0887\"], [0.1111111111111111, \"#46039f\"], [0.2222222222222222, \"#7201a8\"], [0.3333333333333333, \"#9c179e\"], [0.4444444444444444, \"#bd3786\"], [0.5555555555555556, \"#d8576b\"], [0.6666666666666666, \"#ed7953\"], [0.7777777777777778, \"#fb9f3a\"], [0.8888888888888888, \"#fdca26\"], [1.0, \"#f0f921\"]], \"type\": \"surface\"}], \"table\": [{\"cells\": {\"fill\": {\"color\": \"#EBF0F8\"}, \"line\": {\"color\": \"white\"}}, \"header\": {\"fill\": {\"color\": \"#C8D4E3\"}, \"line\": {\"color\": \"white\"}}, \"type\": \"table\"}]}, \"layout\": {\"annotationdefaults\": {\"arrowcolor\": \"#2a3f5f\", \"arrowhead\": 0, \"arrowwidth\": 1}, \"coloraxis\": {\"colorbar\": {\"outlinewidth\": 0, \"ticks\": \"\"}}, \"colorscale\": {\"diverging\": [[0, \"#8e0152\"], [0.1, \"#c51b7d\"], [0.2, \"#de77ae\"], [0.3, \"#f1b6da\"], [0.4, \"#fde0ef\"], [0.5, \"#f7f7f7\"], [0.6, \"#e6f5d0\"], [0.7, \"#b8e186\"], [0.8, \"#7fbc41\"], [0.9, \"#4d9221\"], [1, \"#276419\"]], \"sequential\": [[0.0, \"#0d0887\"], [0.1111111111111111, \"#46039f\"], [0.2222222222222222, \"#7201a8\"], [0.3333333333333333, \"#9c179e\"], [0.4444444444444444, \"#bd3786\"], [0.5555555555555556, \"#d8576b\"], [0.6666666666666666, \"#ed7953\"], [0.7777777777777778, \"#fb9f3a\"], [0.8888888888888888, \"#fdca26\"], [1.0, \"#f0f921\"]], \"sequentialminus\": [[0.0, \"#0d0887\"], [0.1111111111111111, \"#46039f\"], [0.2222222222222222, \"#7201a8\"], [0.3333333333333333, \"#9c179e\"], [0.4444444444444444, \"#bd3786\"], [0.5555555555555556, \"#d8576b\"], [0.6666666666666666, \"#ed7953\"], [0.7777777777777778, \"#fb9f3a\"], [0.8888888888888888, \"#fdca26\"], [1.0, \"#f0f921\"]]}, \"colorway\": [\"#636efa\", \"#EF553B\", \"#00cc96\", \"#ab63fa\", \"#FFA15A\", \"#19d3f3\", \"#FF6692\", \"#B6E880\", \"#FF97FF\", \"#FECB52\"], \"font\": {\"color\": \"#2a3f5f\"}, \"geo\": {\"bgcolor\": \"white\", \"lakecolor\": \"white\", \"landcolor\": \"#E5ECF6\", \"showlakes\": true, \"showland\": true, \"subunitcolor\": \"white\"}, \"hoverlabel\": {\"align\": \"left\"}, \"hovermode\": \"closest\", \"mapbox\": {\"style\": \"light\"}, \"paper_bgcolor\": \"white\", \"plot_bgcolor\": \"#E5ECF6\", \"polar\": {\"angularaxis\": {\"gridcolor\": \"white\", \"linecolor\": \"white\", \"ticks\": \"\"}, \"bgcolor\": \"#E5ECF6\", \"radialaxis\": {\"gridcolor\": \"white\", \"linecolor\": \"white\", \"ticks\": \"\"}}, \"scene\": {\"xaxis\": {\"backgroundcolor\": \"#E5ECF6\", \"gridcolor\": \"white\", \"gridwidth\": 2, \"linecolor\": \"white\", \"showbackground\": true, \"ticks\": \"\", \"zerolinecolor\": \"white\"}, \"yaxis\": {\"backgroundcolor\": \"#E5ECF6\", \"gridcolor\": \"white\", \"gridwidth\": 2, \"linecolor\": \"white\", \"showbackground\": true, \"ticks\": \"\", \"zerolinecolor\": \"white\"}, \"zaxis\": {\"backgroundcolor\": \"#E5ECF6\", \"gridcolor\": \"white\", \"gridwidth\": 2, \"linecolor\": \"white\", \"showbackground\": true, \"ticks\": \"\", \"zerolinecolor\": \"white\"}}, \"shapedefaults\": {\"line\": {\"color\": \"#2a3f5f\"}}, \"ternary\": {\"aaxis\": {\"gridcolor\": \"white\", \"linecolor\": \"white\", \"ticks\": \"\"}, \"baxis\": {\"gridcolor\": \"white\", \"linecolor\": \"white\", \"ticks\": \"\"}, \"bgcolor\": \"#E5ECF6\", \"caxis\": {\"gridcolor\": \"white\", \"linecolor\": \"white\", \"ticks\": \"\"}}, \"title\": {\"x\": 0.05}, \"xaxis\": {\"automargin\": true, \"gridcolor\": \"white\", \"linecolor\": \"white\", \"ticks\": \"\", \"title\": {\"standoff\": 15}, \"zerolinecolor\": \"white\", \"zerolinewidth\": 2}, \"yaxis\": {\"automargin\": true, \"gridcolor\": \"white\", \"linecolor\": \"white\", \"ticks\": \"\", \"title\": {\"standoff\": 15}, \"zerolinecolor\": \"white\", \"zerolinewidth\": 2}}}},\n",
              "                        {\"responsive\": true}\n",
              "                    ).then(function(){\n",
              "                            \n",
              "var gd = document.getElementById('cacbc686-b596-4d0d-a14c-4eac47778d80');\n",
              "var x = new MutationObserver(function (mutations, observer) {{\n",
              "        var display = window.getComputedStyle(gd).display;\n",
              "        if (!display || display === 'none') {{\n",
              "            console.log([gd, 'removed!']);\n",
              "            Plotly.purge(gd);\n",
              "            observer.disconnect();\n",
              "        }}\n",
              "}});\n",
              "\n",
              "// Listen for the removal of the full notebook cells\n",
              "var notebookContainer = gd.closest('#notebook-container');\n",
              "if (notebookContainer) {{\n",
              "    x.observe(notebookContainer, {childList: true});\n",
              "}}\n",
              "\n",
              "// Listen for the clearing of the current output cell\n",
              "var outputEl = gd.closest('.output');\n",
              "if (outputEl) {{\n",
              "    x.observe(outputEl, {childList: true});\n",
              "}}\n",
              "\n",
              "                        })\n",
              "                };\n",
              "                \n",
              "            </script>\n",
              "        </div>\n",
              "</body>\n",
              "</html>"
            ]
          },
          "metadata": {
            "tags": []
          }
        }
      ]
    },
    {
      "cell_type": "code",
      "metadata": {
        "id": "E8dMQ7Rjddq_",
        "colab_type": "code",
        "colab": {
          "base_uri": "https://localhost:8080/",
          "height": 295
        },
        "outputId": "2fcf3b4f-aca2-42d5-cbdb-417ef4f2610d"
      },
      "source": [
        "skplt.metrics.plot_confusion_matrix(y_test, y_pred, normalize=True)\n",
        "plt.show()\n"
      ],
      "execution_count": 16,
      "outputs": [
        {
          "output_type": "display_data",
          "data": {
            "image/png": "[encoded data removed]",
            "text/plain": [
              "<Figure size 432x288 with 2 Axes>"
            ]
          },
          "metadata": {
            "tags": [],
            "needs_background": "light"
          }
        }
      ]
    },
    {
      "cell_type": "code",
      "metadata": {
        "id": "h1KmBvqfdqcL",
        "colab_type": "code",
        "colab": {
          "base_uri": "https://localhost:8080/",
          "height": 280
        },
        "outputId": "a637f568-a945-4623-df23-e3813909bc0b"
      },
      "source": [
        "!pip install scikit-plot"
      ],
      "execution_count": 14,
      "outputs": [
        {
          "output_type": "stream",
          "text": [
            "Collecting scikit-plot\n",
            "  Downloading https://files.pythonhosted.org/packages/7c/47/32520e259340c140a4ad27c1b97050dd3254fdc517b1d59974d47037510e/scikit_plot-0.3.7-py3-none-any.whl\n",
            "Requirement already satisfied: matplotlib>=1.4.0 in /usr/local/lib/python3.6/dist-packages (from scikit-plot) (3.2.2)\n",
            "Requirement already satisfied: scipy>=0.9 in /usr/local/lib/python3.6/dist-packages (from scikit-plot) (1.4.1)\n",
            "Requirement already satisfied: scikit-learn>=0.18 in /usr/local/lib/python3.6/dist-packages (from scikit-plot) (0.22.2.post1)\n",
            "Requirement already satisfied: joblib>=0.10 in /usr/local/lib/python3.6/dist-packages (from scikit-plot) (0.16.0)\n",
            "Requirement already satisfied: pyparsing!=2.0.4,!=2.1.2,!=2.1.6,>=2.0.1 in /usr/local/lib/python3.6/dist-packages (from matplotlib>=1.4.0->scikit-plot) (2.4.7)\n",
            "Requirement already satisfied: cycler>=0.10 in /usr/local/lib/python3.6/dist-packages (from matplotlib>=1.4.0->scikit-plot) (0.10.0)\n",
            "Requirement already satisfied: numpy>=1.11 in /usr/local/lib/python3.6/dist-packages (from matplotlib>=1.4.0->scikit-plot) (1.18.5)\n",
            "Requirement already satisfied: kiwisolver>=1.0.1 in /usr/local/lib/python3.6/dist-packages (from matplotlib>=1.4.0->scikit-plot) (1.2.0)\n",
            "Requirement already satisfied: python-dateutil>=2.1 in /usr/local/lib/python3.6/dist-packages (from matplotlib>=1.4.0->scikit-plot) (2.8.1)\n",
            "Requirement already satisfied: six in /usr/local/lib/python3.6/dist-packages (from cycler>=0.10->matplotlib>=1.4.0->scikit-plot) (1.15.0)\n",
            "Installing collected packages: scikit-plot\n",
            "Successfully installed scikit-plot-0.3.7\n"
          ],
          "name": "stdout"
        }
      ]
    },
    {
      "cell_type": "code",
      "metadata": {
        "id": "1tYFo4X5TQIR",
        "colab_type": "code",
        "colab": {}
      },
      "source": [
        "import numpy as np\n",
        "import matplotlib.pyplot as plt\n",
        "import pandas as pd\n",
        "import scikitplot as skplt"
      ],
      "execution_count": 15,
      "outputs": []
    },
    {
      "cell_type": "code",
      "metadata": {
        "id": "fqhCGi5BTkvF",
        "colab_type": "code",
        "colab": {}
      },
      "source": [
        "dataset = pd.read_csv(\"/content/Alarm1.xlsx - Sheet1.csv\")"
      ],
      "execution_count": 2,
      "outputs": []
    },
    {
      "cell_type": "code",
      "metadata": {
        "id": "koGAJidmTuu5",
        "colab_type": "code",
        "colab": {
          "base_uri": "https://localhost:8080/",
          "height": 348
        },
        "outputId": "50d2e313-a11c-4171-bc23-18902350764d"
      },
      "source": [
        "dataset.head()"
      ],
      "execution_count": 3,
      "outputs": [
        {
          "output_type": "execute_result",
          "data": {
            "text/html": [
              "<div>\n",
              "<style scoped>\n",
              "    .dataframe tbody tr th:only-of-type {\n",
              "        vertical-align: middle;\n",
              "    }\n",
              "\n",
              "    .dataframe tbody tr th {\n",
              "        vertical-align: top;\n",
              "    }\n",
              "\n",
              "    .dataframe thead th {\n",
              "        text-align: right;\n",
              "    }\n",
              "</style>\n",
              "<table border=\"1\" class=\"dataframe\">\n",
              "  <thead>\n",
              "    <tr style=\"text-align: right;\">\n",
              "      <th></th>\n",
              "      <th>TIME</th>\n",
              "      <th>Tank Level</th>\n",
              "      <th>S1 Input PT</th>\n",
              "      <th>S1 Output PT</th>\n",
              "      <th>S1 Output Flow</th>\n",
              "      <th>L1-PT</th>\n",
              "      <th>L2-PT</th>\n",
              "      <th>L3-PT</th>\n",
              "      <th>L4-PT</th>\n",
              "      <th>S2 Receipt Flow</th>\n",
              "      <th>S2-PT</th>\n",
              "      <th>S2 Forward Flow</th>\n",
              "      <th>L5-PT</th>\n",
              "      <th>L6-PT</th>\n",
              "      <th>L7-PT</th>\n",
              "      <th>L8-PT</th>\n",
              "      <th>S3 Receipt Flow</th>\n",
              "      <th>S3-PT</th>\n",
              "      <th>Temperature</th>\n",
              "      <th>Class</th>\n",
              "    </tr>\n",
              "  </thead>\n",
              "  <tbody>\n",
              "    <tr>\n",
              "      <th>0</th>\n",
              "      <td>2020/7/15 0:02:55</td>\n",
              "      <td>7.5</td>\n",
              "      <td>5.0</td>\n",
              "      <td>51.08</td>\n",
              "      <td>270.32</td>\n",
              "      <td>41.63</td>\n",
              "      <td>21.03</td>\n",
              "      <td>22.02</td>\n",
              "      <td>28.42</td>\n",
              "      <td>131.39</td>\n",
              "      <td>29.5</td>\n",
              "      <td>138.68</td>\n",
              "      <td>18.15</td>\n",
              "      <td>25.65</td>\n",
              "      <td>25.73</td>\n",
              "      <td>29.28</td>\n",
              "      <td>139.40</td>\n",
              "      <td>26.09</td>\n",
              "      <td>55.54</td>\n",
              "      <td>Z</td>\n",
              "    </tr>\n",
              "    <tr>\n",
              "      <th>1</th>\n",
              "      <td>2020/7/15 0:03:00</td>\n",
              "      <td>7.5</td>\n",
              "      <td>5.0</td>\n",
              "      <td>51.08</td>\n",
              "      <td>270.32</td>\n",
              "      <td>41.63</td>\n",
              "      <td>21.03</td>\n",
              "      <td>22.02</td>\n",
              "      <td>28.42</td>\n",
              "      <td>131.39</td>\n",
              "      <td>29.5</td>\n",
              "      <td>138.68</td>\n",
              "      <td>18.15</td>\n",
              "      <td>25.65</td>\n",
              "      <td>25.73</td>\n",
              "      <td>29.29</td>\n",
              "      <td>139.54</td>\n",
              "      <td>26.09</td>\n",
              "      <td>55.54</td>\n",
              "      <td>Z</td>\n",
              "    </tr>\n",
              "    <tr>\n",
              "      <th>2</th>\n",
              "      <td>2020/7/15 0:03:05</td>\n",
              "      <td>7.5</td>\n",
              "      <td>5.0</td>\n",
              "      <td>51.08</td>\n",
              "      <td>270.38</td>\n",
              "      <td>41.63</td>\n",
              "      <td>21.03</td>\n",
              "      <td>22.02</td>\n",
              "      <td>28.42</td>\n",
              "      <td>131.39</td>\n",
              "      <td>29.5</td>\n",
              "      <td>138.68</td>\n",
              "      <td>18.15</td>\n",
              "      <td>25.65</td>\n",
              "      <td>25.73</td>\n",
              "      <td>29.28</td>\n",
              "      <td>139.54</td>\n",
              "      <td>26.09</td>\n",
              "      <td>55.54</td>\n",
              "      <td>Z</td>\n",
              "    </tr>\n",
              "    <tr>\n",
              "      <th>3</th>\n",
              "      <td>2020/7/15 0:03:10</td>\n",
              "      <td>7.5</td>\n",
              "      <td>5.0</td>\n",
              "      <td>51.08</td>\n",
              "      <td>270.55</td>\n",
              "      <td>41.63</td>\n",
              "      <td>21.03</td>\n",
              "      <td>22.02</td>\n",
              "      <td>28.42</td>\n",
              "      <td>131.39</td>\n",
              "      <td>29.5</td>\n",
              "      <td>138.68</td>\n",
              "      <td>18.15</td>\n",
              "      <td>25.65</td>\n",
              "      <td>25.73</td>\n",
              "      <td>29.28</td>\n",
              "      <td>139.54</td>\n",
              "      <td>26.09</td>\n",
              "      <td>55.54</td>\n",
              "      <td>Z</td>\n",
              "    </tr>\n",
              "    <tr>\n",
              "      <th>4</th>\n",
              "      <td>2020/7/15 0:03:15</td>\n",
              "      <td>7.5</td>\n",
              "      <td>5.0</td>\n",
              "      <td>51.08</td>\n",
              "      <td>270.56</td>\n",
              "      <td>41.63</td>\n",
              "      <td>21.03</td>\n",
              "      <td>22.02</td>\n",
              "      <td>28.42</td>\n",
              "      <td>131.39</td>\n",
              "      <td>29.5</td>\n",
              "      <td>138.68</td>\n",
              "      <td>18.15</td>\n",
              "      <td>25.65</td>\n",
              "      <td>25.73</td>\n",
              "      <td>29.28</td>\n",
              "      <td>139.54</td>\n",
              "      <td>26.09</td>\n",
              "      <td>55.54</td>\n",
              "      <td>Z</td>\n",
              "    </tr>\n",
              "  </tbody>\n",
              "</table>\n",
              "</div>"
            ],
            "text/plain": [
              "                TIME  Tank Level  S1 Input PT  ...  S3-PT  Temperature  Class\n",
              "0  2020/7/15 0:02:55         7.5          5.0  ...  26.09        55.54      Z\n",
              "1  2020/7/15 0:03:00         7.5          5.0  ...  26.09        55.54      Z\n",
              "2  2020/7/15 0:03:05         7.5          5.0  ...  26.09        55.54      Z\n",
              "3  2020/7/15 0:03:10         7.5          5.0  ...  26.09        55.54      Z\n",
              "4  2020/7/15 0:03:15         7.5          5.0  ...  26.09        55.54      Z\n",
              "\n",
              "[5 rows x 20 columns]"
            ]
          },
          "metadata": {
            "tags": []
          },
          "execution_count": 3
        }
      ]
    },
    {
      "cell_type": "code",
      "metadata": {
        "id": "Zvzo2u39TyaE",
        "colab_type": "code",
        "colab": {}
      },
      "source": [
        "df=dataset[[\"Tank Level\",\"S1 Input PT\",\"S1 Output PT\",\"S1 Output Flow\",\"Temperature\",\"Class\"]]"
      ],
      "execution_count": 4,
      "outputs": []
    },
    {
      "cell_type": "code",
      "metadata": {
        "id": "lF-dkOJkU33t",
        "colab_type": "code",
        "colab": {
          "base_uri": "https://localhost:8080/",
          "height": 34
        },
        "outputId": "40afa060-afef-42f7-8445-38821730bb24"
      },
      "source": [
        "type(df)"
      ],
      "execution_count": 5,
      "outputs": [
        {
          "output_type": "execute_result",
          "data": {
            "text/plain": [
              "pandas.core.frame.DataFrame"
            ]
          },
          "metadata": {
            "tags": []
          },
          "execution_count": 5
        }
      ]
    },
    {
      "cell_type": "code",
      "metadata": {
        "id": "74FHNCNtU56t",
        "colab_type": "code",
        "colab": {
          "base_uri": "https://localhost:8080/",
          "height": 206
        },
        "outputId": "7295ebbf-16a3-4d71-c1db-7e221e63fe30"
      },
      "source": [
        "df.head()"
      ],
      "execution_count": 6,
      "outputs": [
        {
          "output_type": "execute_result",
          "data": {
            "text/html": [
              "<div>\n",
              "<style scoped>\n",
              "    .dataframe tbody tr th:only-of-type {\n",
              "        vertical-align: middle;\n",
              "    }\n",
              "\n",
              "    .dataframe tbody tr th {\n",
              "        vertical-align: top;\n",
              "    }\n",
              "\n",
              "    .dataframe thead th {\n",
              "        text-align: right;\n",
              "    }\n",
              "</style>\n",
              "<table border=\"1\" class=\"dataframe\">\n",
              "  <thead>\n",
              "    <tr style=\"text-align: right;\">\n",
              "      <th></th>\n",
              "      <th>Tank Level</th>\n",
              "      <th>S1 Input PT</th>\n",
              "      <th>S1 Output PT</th>\n",
              "      <th>S1 Output Flow</th>\n",
              "      <th>Temperature</th>\n",
              "      <th>Class</th>\n",
              "    </tr>\n",
              "  </thead>\n",
              "  <tbody>\n",
              "    <tr>\n",
              "      <th>0</th>\n",
              "      <td>7.5</td>\n",
              "      <td>5.0</td>\n",
              "      <td>51.08</td>\n",
              "      <td>270.32</td>\n",
              "      <td>55.54</td>\n",
              "      <td>Z</td>\n",
              "    </tr>\n",
              "    <tr>\n",
              "      <th>1</th>\n",
              "      <td>7.5</td>\n",
              "      <td>5.0</td>\n",
              "      <td>51.08</td>\n",
              "      <td>270.32</td>\n",
              "      <td>55.54</td>\n",
              "      <td>Z</td>\n",
              "    </tr>\n",
              "    <tr>\n",
              "      <th>2</th>\n",
              "      <td>7.5</td>\n",
              "      <td>5.0</td>\n",
              "      <td>51.08</td>\n",
              "      <td>270.38</td>\n",
              "      <td>55.54</td>\n",
              "      <td>Z</td>\n",
              "    </tr>\n",
              "    <tr>\n",
              "      <th>3</th>\n",
              "      <td>7.5</td>\n",
              "      <td>5.0</td>\n",
              "      <td>51.08</td>\n",
              "      <td>270.55</td>\n",
              "      <td>55.54</td>\n",
              "      <td>Z</td>\n",
              "    </tr>\n",
              "    <tr>\n",
              "      <th>4</th>\n",
              "      <td>7.5</td>\n",
              "      <td>5.0</td>\n",
              "      <td>51.08</td>\n",
              "      <td>270.56</td>\n",
              "      <td>55.54</td>\n",
              "      <td>Z</td>\n",
              "    </tr>\n",
              "  </tbody>\n",
              "</table>\n",
              "</div>"
            ],
            "text/plain": [
              "   Tank Level  S1 Input PT  S1 Output PT  S1 Output Flow  Temperature Class\n",
              "0         7.5          5.0         51.08          270.32        55.54     Z\n",
              "1         7.5          5.0         51.08          270.32        55.54     Z\n",
              "2         7.5          5.0         51.08          270.38        55.54     Z\n",
              "3         7.5          5.0         51.08          270.55        55.54     Z\n",
              "4         7.5          5.0         51.08          270.56        55.54     Z"
            ]
          },
          "metadata": {
            "tags": []
          },
          "execution_count": 6
        }
      ]
    },
    {
      "cell_type": "code",
      "metadata": {
        "id": "wcFEBgMvU7Ze",
        "colab_type": "code",
        "colab": {}
      },
      "source": [
        "X = df.iloc[:, :-1].values\n",
        "y = df.iloc[:, -1].values"
      ],
      "execution_count": 7,
      "outputs": []
    },
    {
      "cell_type": "code",
      "metadata": {
        "id": "Y_Zp-w3vVmyP",
        "colab_type": "code",
        "colab": {}
      },
      "source": [
        "from sklearn.model_selection import train_test_split\n",
        "X_train, X_test, y_train, y_test = train_test_split(X, y, test_size=0.20)"
      ],
      "execution_count": 8,
      "outputs": []
    },
    {
      "cell_type": "code",
      "metadata": {
        "id": "NWVjwdSJWPIP",
        "colab_type": "code",
        "colab": {}
      },
      "source": [
        "from sklearn.preprocessing import StandardScaler\n",
        "scaler = StandardScaler()\n",
        "scaler.fit(X_train)\n",
        "\n",
        "X_train = scaler.transform(X_train)\n",
        "X_test = scaler.transform(X_test)"
      ],
      "execution_count": 9,
      "outputs": []
    },
    {
      "cell_type": "code",
      "metadata": {
        "id": "Rf8pGCw8WTJy",
        "colab_type": "code",
        "colab": {
          "base_uri": "https://localhost:8080/",
          "height": 69
        },
        "outputId": "62793adb-09e0-4084-e37a-c57f871243cb"
      },
      "source": [
        "from sklearn.neighbors import KNeighborsClassifier\n",
        "classifier = KNeighborsClassifier(n_neighbors=4)\n",
        "classifier.fit(X_train, y_train)"
      ],
      "execution_count": 10,
      "outputs": [
        {
          "output_type": "execute_result",
          "data": {
            "text/plain": [
              "KNeighborsClassifier(algorithm='auto', leaf_size=30, metric='minkowski',\n",
              "                     metric_params=None, n_jobs=None, n_neighbors=4, p=2,\n",
              "                     weights='uniform')"
            ]
          },
          "metadata": {
            "tags": []
          },
          "execution_count": 10
        }
      ]
    },
    {
      "cell_type": "code",
      "metadata": {
        "id": "12ZDDAyxWa3I",
        "colab_type": "code",
        "colab": {}
      },
      "source": [
        "y_pred = classifier.predict(X_test)"
      ],
      "execution_count": 11,
      "outputs": []
    },
    {
      "cell_type": "code",
      "metadata": {
        "id": "-fF2e4NrWf0p",
        "colab_type": "code",
        "colab": {
          "base_uri": "https://localhost:8080/",
          "height": 278
        },
        "outputId": "0ca2ba0d-8fbf-4041-e377-4986ce269511"
      },
      "source": [
        "from sklearn.metrics import classification_report, confusion_matrix\n",
        "print(confusion_matrix(y_test, y_pred))\n",
        "print(classification_report(y_test, y_pred))"
      ],
      "execution_count": 12,
      "outputs": [
        {
          "output_type": "stream",
          "text": [
            "[[27  0  0  0]\n",
            " [ 0 34  0  8]\n",
            " [ 0  0 25  2]\n",
            " [ 3  1  3 68]]\n",
            "              precision    recall  f1-score   support\n",
            "\n",
            "           A       0.90      1.00      0.95        27\n",
            "           C       0.97      0.81      0.88        42\n",
            "           I       0.89      0.93      0.91        27\n",
            "           Z       0.87      0.91      0.89        75\n",
            "\n",
            "    accuracy                           0.90       171\n",
            "   macro avg       0.91      0.91      0.91       171\n",
            "weighted avg       0.90      0.90      0.90       171\n",
            "\n"
          ],
          "name": "stdout"
        }
      ]
    },
    {
      "cell_type": "code",
      "metadata": {
        "id": "jrmJkOMnWjGF",
        "colab_type": "code",
        "colab": {}
      },
      "source": [
        "#import matplotlib.pyplot as plt\n",
        "#from mpl_toolkits.mplot3d import Axes3D"
      ],
      "execution_count": 17,
      "outputs": []
    },
    {
      "cell_type": "code",
      "metadata": {
        "id": "YuODlS35bbzv",
        "colab_type": "code",
        "colab": {}
      },
      "source": [
        "#%matplotlib inline\n",
        "#import numpy as np\n",
        "#import matplotlib.pyplot as plt"
      ],
      "execution_count": 18,
      "outputs": []
    },
    {
      "cell_type": "code",
      "metadata": {
        "id": "sSx-X1axbowA",
        "colab_type": "code",
        "colab": {}
      },
      "source": [
        "#threedee = plt.figure().gca(projection='3d')\n",
        "#threedee.scatter(df['S1 Input PT'], df['S1 Output PT'], df['S1 Output Flow'])\n",
        "#threedee.set_xlabel('S1 Input PT')\n",
        "#threedee.set_ylabel('S1 Output PT')\n",
        "#threedee.set_zlabel('S1 Output Flow')\n",
        "#plt.show()"
      ],
      "execution_count": 22,
      "outputs": []
    },
    {
      "cell_type": "code",
      "metadata": {
        "id": "wEUk4nnvd3CT",
        "colab_type": "code",
        "colab": {}
      },
      "source": [
        "df1=df.drop('Temperature', 1)"
      ],
      "execution_count": 20,
      "outputs": []
    },
    {
      "cell_type": "code",
      "metadata": {
        "id": "q_rPCu_ueTsE",
        "colab_type": "code",
        "colab": {
          "base_uri": "https://localhost:8080/",
          "height": 542
        },
        "outputId": "1f0fca89-e5a8-4d8e-e85d-634f41d9d015"
      },
      "source": [
        "import plotly.express as px\n",
        "fig = px.scatter_3d(df, x='S1 Input PT', y='S1 Output PT', z='S1 Output Flow',\n",
        "              color='Temperature', symbol='Class')\n",
        "fig.show()"
      ],
      "execution_count": null,
      "outputs": [
        {
          "output_type": "display_data",
          "data": {
            "text/html": [
              "<html>\n",
              "<head><meta charset=\"utf-8\" /></head>\n",
              "<body>\n",
              "    <div>\n",
              "            <script src=\"https://cdnjs.cloudflare.com/ajax/libs/mathjax/2.7.5/MathJax.js?config=TeX-AMS-MML_SVG\"></script><script type=\"text/javascript\">if (window.MathJax) {MathJax.Hub.Config({SVG: {font: \"STIX-Web\"}});}</script>\n",
              "                <script type=\"text/javascript\">window.PlotlyConfig = {MathJaxConfig: 'local'};</script>\n",
              "        <script src=\"https://cdn.plot.ly/plotly-latest.min.js\"></script>    \n",
              "            <div id=\"f7c42970-4540-417b-9bb3-6b4efec8f6f5\" class=\"plotly-graph-div\" style=\"height:525px; width:100%;\"></div>\n",
              "            <script type=\"text/javascript\">\n",
              "                \n",
              "                    window.PLOTLYENV=window.PLOTLYENV || {};\n",
              "                    \n",
              "                if (document.getElementById(\"f7c42970-4540-417b-9bb3-6b4efec8f6f5\")) {\n",
              "                    Plotly.newPlot(\n",
              "                        'f7c42970-4540-417b-9bb3-6b4efec8f6f5',\n",
              "                        [{\"hoverlabel\": {\"namelength\": 0}, \"hovertemplate\": \"Class=Z<br>S1 Input PT=%{x}<br>S1 Output PT=%{y}<br>S1 Output Flow=%{z}<br>Temperature=%{marker.color}\", \"legendgroup\": \"Class=Z\", \"marker\": {\"color\": [55.54, 55.54, 55.54, 55.54, 55.54, 55.54, 55.55, 55.55, 55.55, 55.54, 55.54, 55.54, 55.54, 55.54, 55.525, 55.525, 55.525, 55.525, 55.525, 55.525, 55.525, 55.525, 55.525, 55.525, 55.525, 55.525, 55.525, 55.52, 55.52, 55.52, 55.52, 55.52, 55.52, 55.52, 55.52, 59.56, 60.185, 58.49, 57.195, 56.545, 55.545, 55.545, 55.52, 55.52, 55.0, 54.56, 54.06666667, 53.58666667, 53.10666667, 52.62666667, 52.14666667, 51.66666667, 51.18666667, 50.70666667, 50.22666667, 49.74666667, 49.26666667, 48.78666667, 48.30666667, 47.82666667, 47.34666667, 46.86666667, 46.38666667, 47.0, 55.525, 55.525, 55.525, 55.525, 55.525, 55.525, 55.525, 55.525, 52.68, 52.68, 52.68, 52.68, 52.68, 52.68, 52.68, 52.68, 52.855, 52.855, 52.855, 52.855, 52.855, 52.855, 52.855, 52.855, 52.855, 52.855, 52.855, 52.665, 52.665, 52.665, 52.665, 52.665, 52.665, 52.665, 52.665, 52.665, 52.655, 52.655, 52.655, 52.655, 52.655, 52.655, 52.655, 52.655, 52.655, 52.66, 52.66, 52.66, 52.66, 52.66, 52.66, 52.66, 52.66, 52.66, 52.66, 52.66, 52.66, 52.665, 52.665, 52.665, 52.665, 52.665, 51.955, 51.955, 51.955, 51.955, 51.95, 51.95, 51.95, 51.95, 51.945, 51.945, 51.945, 51.945, 51.945, 51.945, 51.945, 51.945, 51.945, 51.94, 51.94, 51.94, 51.94, 51.94, 51.94, 51.94, 51.94, 51.94, 51.94, 51.935, 51.935, 51.935, 51.925, 51.925, 51.935, 51.935, 51.935, 51.935, 51.935, 51.935, 54.0, 54.0, 54.0, 54.0, 54.005, 54.005, 54.005, 54.005, 54.0, 54.0, 54.0, 54.0, 54.0, 53.995, 53.99, 42.48, 44.96, 55.54, 55.54, 55.54, 55.54, 55.54, 55.54, 55.55, 55.55, 55.55, 55.54, 55.54, 55.54, 55.54, 55.54, 55.525, 55.56, 55.59, 55.63, 55.68, 55.72, 55.77, 55.8, 55.81, 55.82, 60.66, 61.84, 60.91, 60.77, 59.8, 59.12, 54.0, 54.0, 54.0, 54.0, 51.98, 50.56, 50.65, 52.5, 52.5, 52.5, 52.5, 52.5, 52.5, 52.5, 52.5, 52.5, 52.5, 55.54, 55.54, 55.54, 55.54, 55.54, 55.54, 55.55, 55.55, 55.55, 55.54, 55.54, 55.54, 55.54, 55.54, 55.525, 55.53, 55.58, 55.6, 55.61, 55.65, 55.69, 55.73, 55.73, 55.74, 59.5, 61.94, 59.61, 58.14, 56.19, 55.07, 54.0, 54.0, 54.0, 54.0, 51.06, 48.08, 46.64, 52.5, 52.5, 52.5, 52.5, 52.5, 52.5, 52.5, 52.5, 52.5, 52.5, 55.54, 55.54, 55.54, 55.54, 55.54, 55.54, 55.55, 55.55, 55.55, 55.54, 55.54, 55.54, 55.54, 55.54, 55.525, 55.57, 55.58, 55.6, 55.64, 55.67, 55.71, 55.75, 55.77, 55.78, 58.51, 60.7, 59.08, 58.65, 57.1, 55.58, 54.0, 54.0, 54.0, 54.0, 52.44, 51.59, 53.32, 52.5, 52.5, 52.5, 52.5, 52.5, 52.5, 52.5, 52.5, 52.5, 52.5, 55.54, 55.54, 55.54, 55.54, 55.54, 55.54, 55.55, 55.55, 55.55, 55.54, 55.54, 55.54, 55.54, 55.54, 55.525, 55.57, 55.6, 55.64, 55.65, 55.69, 55.7, 55.73, 55.75, 55.76, 60.26, 61.33, 60.27, 59.54, 58.42, 55.99, 54.0, 54.0, 54.0, 54.0, 53.62, 49.84, 45.61, 52.5, 52.5, 52.5, 52.5, 52.5, 52.5, 52.5, 52.5, 52.5, 52.5, 55.54, 55.54, 55.54, 55.54, 55.54, 55.54, 55.55, 55.55, 55.55, 55.54, 55.54, 55.54, 55.54, 55.54, 55.525, 55.53, 55.57, 55.58, 55.6, 55.61, 55.64, 55.67, 55.7, 55.73, 59.81, 62.23, 61.02, 58.59, 57.58, 56.84, 54.0, 54.0, 54.0, 54.0, 51.67, 48.41, 44.07, 52.5, 52.5, 52.5, 52.5, 52.5, 52.5, 52.5, 52.5, 52.5, 52.5], \"coloraxis\": \"coloraxis\", \"symbol\": \"circle\"}, \"mode\": \"markers\", \"name\": \"Class=Z\", \"scene\": \"scene\", \"showlegend\": true, \"type\": \"scatter3d\", \"x\": [5.0, 5.0, 5.0, 5.0, 5.0, 5.0, 5.0, 4.99, 4.99, 5.0, 5.0, 5.0, 5.0, 5.0, 5.02, 5.02, 5.02, 5.02, 5.01, 5.01, 5.01, 5.01, 5.01, 5.01, 5.01, 5.01, 5.01, 2.01, 1.9, 1.79, 1.68, 1.57, 1.46, 1.35, 1.24, 5.0, 5.0, 5.0, 5.0, 5.0, 5.0, 5.0, 4.94, 4.93, 4.93, 4.93, 4.95, 4.96, 4.96, 4.96, 4.98, 5.0, 5.03, 5.03, 5.05, 5.05, 5.05, 5.08, 5.08, 5.16, 5.16, 5.25, 5.25, 5.26, 5.23, 5.21, 5.21, 5.18, 5.18, 5.16, 5.16, 5.15, 5.0, 5.0, 5.0, 5.0, 5.0, 5.0, 5.0, 5.0, 5.03, 5.03, 5.01, 5.04, 5.04, 5.03, 5.03, 5.02, 5.02, 5.02, 5.03, 5.0, 5.0, 5.0, 4.98, 4.98, 4.99, 5.0, 5.0, 5.0, 5.0, 5.0, 5.0, 5.0, 5.0, 4.99, 4.99, 4.99, 4.99, 5.0, 5.0, 4.98, 5.0, 5.0, 5.0, 5.0, 5.0, 5.02, 5.02, 5.0, 5.0, 5.0, 5.0, 4.99, 4.99, 4.99, 5.0, 5.0, 5.0, 5.0, 4.99, 4.99, 5.01, 5.0, 5.0, 4.99, 4.99, 4.99, 4.99, 4.99, 4.99, 5.01, 5.01, 5.01, 5.01, 5.01, 5.0, 5.0, 5.0, 5.0, 4.99, 4.99, 4.99, 5.0, 5.01, 5.01, 5.81, 5.83, 5.88, 5.88, 5.95, 6.03, 6.03, 6.03, 4.49, 4.5, 4.5, 4.5, 4.49, 4.49, 4.51, 4.5, 4.49, 4.5, 4.49, 4.51, 4.49, 4.5, 4.5, 4.49, 4.49, 5.0, 5.0, 5.0, 5.0, 5.0, 5.0, 5.0, 4.99, 4.99, 5.0, 5.0, 5.0, 5.0, 5.0, 5.01, 4.5, 4.16, 3.8, 3.34, 2.98, 2.58, 1.93, 1.85, 1.18, 5.0, 5.0, 5.0, 5.0, 5.0, 5.0, 4.5, 4.5, 4.5, 4.5, 4.5, 4.5, 4.5, 4.5, 4.5, 4.5, 4.5, 4.5, 4.5, 4.5, 4.5, 4.5, 4.5, 5.0, 5.0, 5.0, 5.0, 5.0, 5.0, 5.0, 4.99, 4.99, 5.0, 5.0, 5.0, 5.0, 5.0, 5.01, 4.49, 4.0, 3.68, 3.35, 2.83, 2.42, 1.74, 1.41, 1.03, 5.0, 5.0, 5.0, 5.0, 5.0, 5.0, 4.5, 4.5, 4.5, 4.5, 4.5, 4.5, 4.5, 4.5, 4.5, 4.5, 4.5, 4.5, 4.5, 4.5, 4.5, 4.5, 4.5, 5.0, 5.0, 5.0, 5.0, 5.0, 5.0, 5.0, 4.99, 4.99, 5.0, 5.0, 5.0, 5.0, 5.0, 5.01, 4.89, 4.62, 4.28, 3.64, 2.95, 2.55, 2.05, 1.75, 1.65, 5.0, 5.0, 5.0, 5.0, 5.0, 5.0, 4.5, 4.5, 4.5, 4.5, 4.5, 4.5, 4.5, 4.5, 4.5, 4.5, 4.5, 4.5, 4.5, 4.5, 4.5, 4.5, 4.5, 5.0, 5.0, 5.0, 5.0, 5.0, 5.0, 5.0, 4.99, 4.99, 5.0, 5.0, 5.0, 5.0, 5.0, 5.01, 4.74, 4.32, 3.73, 3.43, 2.74, 2.61, 2.56, 2.34, 1.78, 5.0, 5.0, 5.0, 5.0, 5.0, 5.0, 4.5, 4.5, 4.5, 4.5, 4.5, 4.5, 4.5, 4.5, 4.5, 4.5, 4.5, 4.5, 4.5, 4.5, 4.5, 4.5, 4.5, 5.0, 5.0, 5.0, 5.0, 5.0, 5.0, 5.0, 4.99, 4.99, 5.0, 5.0, 5.0, 5.0, 5.0, 5.01, 4.44, 4.06, 3.89, 3.58, 3.49, 2.82, 2.8, 2.65, 2.01, 5.0, 5.0, 5.0, 5.0, 5.0, 5.0, 4.5, 4.5, 4.5, 4.5, 4.5, 4.5, 4.5, 4.5, 4.5, 4.5, 4.5, 4.5, 4.5, 4.5, 4.5, 4.5, 4.5], \"y\": [51.08, 51.08, 51.08, 51.08, 51.08, 51.08, 51.1, 51.1, 51.1, 51.08, 51.08, 51.08, 51.08, 51.08, 51.05, 51.05, 51.05, 51.05, 51.05, 51.05, 51.05, 51.05, 51.05, 51.05, 51.05, 51.05, 51.05, 51.04, 51.04, 51.04, 51.04, 51.04, 51.04, 51.04, 51.04, 59.12, 60.37, 56.98, 54.39, 53.09, 51.09, 51.09, 51.04, 51.04, 50.0, 49.12, 48.13333333, 47.17333333, 46.21333333, 45.25333333, 44.29333333, 43.33333333, 42.37333333, 41.41333333, 40.45333333, 39.49333333, 38.53333333, 37.57333333, 36.61333333, 35.65333333, 34.69333333, 33.73333333, 32.77333333, 34.0, 51.05, 51.05, 51.05, 51.05, 51.05, 51.05, 51.05, 51.05, 45.36, 45.36, 45.36, 45.36, 45.36, 45.36, 45.36, 45.36, 45.71, 45.71, 45.71, 45.71, 45.71, 45.71, 45.71, 45.71, 45.71, 45.71, 45.71, 45.33, 45.33, 45.33, 45.33, 45.33, 45.33, 45.33, 45.33, 45.33, 45.31, 45.31, 45.31, 45.31, 45.31, 45.31, 45.31, 45.31, 45.31, 45.32, 45.32, 45.32, 45.32, 45.32, 45.32, 45.32, 45.32, 45.32, 45.32, 45.32, 45.32, 45.33, 45.33, 45.33, 45.33, 45.33, 43.91, 43.91, 43.91, 43.91, 43.9, 43.9, 43.9, 43.9, 43.89, 43.89, 43.89, 43.89, 43.89, 43.89, 43.89, 43.89, 43.89, 43.88, 43.88, 43.88, 43.88, 43.88, 43.88, 43.88, 43.88, 43.88, 43.88, 43.87, 43.87, 43.87, 43.85, 43.85, 43.87, 43.87, 43.87, 43.87, 43.87, 43.87, 48.0, 48.0, 48.0, 48.0, 48.01, 48.01, 48.01, 48.01, 48.0, 48.0, 48.0, 48.0, 48.0, 47.99, 47.98, 24.96, 29.92, 51.08, 51.08, 51.08, 51.08, 51.08, 51.08, 51.1, 51.1, 51.1, 51.08, 51.08, 51.08, 51.08, 51.08, 51.05, 51.13, 51.17, 51.27, 51.37, 51.44, 51.54, 51.6, 51.62, 51.63, 61.33, 63.68, 61.83, 61.54, 59.6, 58.25, 48.0, 48.0, 48.0, 48.0, 43.97, 41.11, 41.3, 45.0, 45.0, 45.0, 45.0, 45.0, 45.0, 45.0, 45.0, 45.0, 45.0, 51.08, 51.08, 51.08, 51.08, 51.08, 51.08, 51.1, 51.1, 51.1, 51.08, 51.08, 51.08, 51.08, 51.08, 51.05, 51.06, 51.16, 51.2, 51.22, 51.29, 51.37, 51.46, 51.47, 51.49, 58.99, 63.88, 59.22, 56.28, 52.38, 50.13, 48.0, 48.0, 48.0, 48.0, 42.11, 36.16, 33.28, 45.0, 45.0, 45.0, 45.0, 45.0, 45.0, 45.0, 45.0, 45.0, 45.0, 51.08, 51.08, 51.08, 51.08, 51.08, 51.08, 51.1, 51.1, 51.1, 51.08, 51.08, 51.08, 51.08, 51.08, 51.05, 51.15, 51.16, 51.2, 51.28, 51.34, 51.43, 51.5, 51.55, 51.56, 57.02, 61.41, 58.15, 57.31, 54.2, 51.16, 48.0, 48.0, 48.0, 48.0, 44.87, 43.19, 46.64, 45.0, 45.0, 45.0, 45.0, 45.0, 45.0, 45.0, 45.0, 45.0, 45.0, 51.08, 51.08, 51.08, 51.08, 51.08, 51.08, 51.1, 51.1, 51.1, 51.08, 51.08, 51.08, 51.08, 51.08, 51.05, 51.13, 51.21, 51.28, 51.29, 51.37, 51.4, 51.46, 51.51, 51.53, 60.52, 62.66, 60.55, 59.08, 56.84, 51.98, 48.0, 48.0, 48.0, 48.0, 47.24, 39.67, 31.23, 45.0, 45.0, 45.0, 45.0, 45.0, 45.0, 45.0, 45.0, 45.0, 45.0, 51.08, 51.08, 51.08, 51.08, 51.08, 51.08, 51.1, 51.1, 51.1, 51.08, 51.08, 51.08, 51.08, 51.08, 51.05, 51.06, 51.13, 51.15, 51.2, 51.22, 51.27, 51.33, 51.4, 51.47, 59.62, 64.46, 62.04, 57.17, 55.17, 53.68, 48.0, 48.0, 48.0, 48.0, 43.33, 36.83, 28.14, 45.0, 45.0, 45.0, 45.0, 45.0, 45.0, 45.0, 45.0, 45.0, 45.0], \"z\": [270.32, 270.32, 270.38, 270.55, 270.56, 270.56, 270.63, 270.29, 270.39, 269.91, 270.44, 270.44, 270.01, 270.65, 270.04, 270.39, 270.43, 270.78, 270.31, 270.76, 270.27, 270.27, 269.93, 270.42, 270.46, 270.62, 270.62, 270.6, 270.55, 270.55, 270.57, 270.53, 270.56, 270.01, 270.59, 169.9, 189.18, 200.76, 209.82, 249.96, 270.71, 270.05, 270.16, 270.7, 270.7, 270.29, 270.2, 270.43, 270.54, 270.54, 270.39, 281.0, 273.0, 270.22, 270.24, 270.65, 270.65, 270.49, 270.41, 270.51, 270.51, 270.18, 270.41, 270.21, 270.53, 270.57, 270.57, 270.27, 270.17, 270.45, 270.45, 270.57, 219.97, 219.97, 219.78, 219.83, 219.58, 219.97, 219.8, 219.8, 218.94, 218.94, 218.58, 218.73, 218.73, 218.91, 218.91, 218.67, 218.83, 218.8, 218.79, 220.13, 220.05, 219.95, 220.01, 220.01, 220.28, 220.24, 220.24, 220.01, 220.28, 220.34, 220.18, 220.18, 252.5, 219.99, 220.29, 220.32, 220.32, 220.17, 220.19, 220.29, 220.14, 220.22, 220.22, 220.1, 220.15, 220.16, 219.76, 220.14, 220.18, 219.75, 219.75, 219.75, 220.03, 220.05, 224.24, 224.24, 224.45, 224.48, 224.57, 224.48, 224.25, 224.4, 224.41, 224.46, 224.46, 224.37, 224.54, 224.54, 224.51, 224.67, 224.74, 224.56, 224.54, 224.54, 225.04, 225.04, 224.43, 224.65, 224.7, 224.7, 224.7, 224.79, 224.73, 224.65, 224.82, 224.77, 224.91, 224.91, 224.49, 224.63, 224.78, 224.78, 270.17, 270.17, 270.29, 270.32, 270.27, 270.58, 270.32, 270.34, 270.26, 270.09, 270.09, 270.34, 270.34, 270.68, 270.04, 270.0, 270.3, 270.32, 270.32, 270.38, 270.55, 270.56, 270.56, 270.63, 270.29, 270.39, 269.91, 270.44, 270.44, 270.01, 270.65, 270.62, 270.62, 270.6, 270.55, 270.55, 270.57, 270.53, 270.56, 270.01, 270.59, 169.9, 189.18, 200.76, 209.82, 249.96, 270.71, 270.0, 270.0, 270.0, 270.0, 261.08, 248.1, 270.0, 270.0, 270.0, 270.0, 270.0, 270.0, 270.0, 270.0, 270.0, 270.0, 270.0, 270.32, 270.32, 270.38, 270.55, 270.56, 270.56, 270.63, 270.29, 270.39, 269.91, 270.44, 270.44, 270.01, 270.65, 270.62, 270.62, 270.6, 270.55, 270.55, 270.57, 270.53, 270.56, 270.01, 270.59, 169.9, 189.18, 200.76, 209.82, 249.96, 270.71, 270.0, 270.0, 270.0, 270.0, 260.58, 254.82, 270.0, 270.0, 270.0, 270.0, 270.0, 270.0, 270.0, 270.0, 270.0, 270.0, 270.0, 270.32, 270.32, 270.38, 270.55, 270.56, 270.56, 270.63, 270.29, 270.39, 269.91, 270.44, 270.44, 270.01, 270.65, 270.62, 270.62, 270.6, 270.55, 270.55, 270.57, 270.53, 270.56, 270.01, 270.59, 169.9, 189.18, 200.76, 209.82, 249.96, 270.71, 270.0, 270.0, 270.0, 270.0, 259.31, 246.46, 270.0, 270.0, 270.0, 270.0, 270.0, 270.0, 270.0, 270.0, 270.0, 270.0, 270.0, 270.32, 270.32, 270.38, 270.55, 270.56, 270.56, 270.63, 270.29, 270.39, 269.91, 270.44, 270.44, 270.01, 270.65, 270.62, 270.62, 270.6, 270.55, 270.55, 270.57, 270.53, 270.56, 270.01, 270.59, 169.9, 189.18, 200.76, 209.82, 249.96, 270.71, 270.0, 270.0, 270.0, 270.0, 263.59, 253.07, 270.0, 270.0, 270.0, 270.0, 270.0, 270.0, 270.0, 270.0, 270.0, 270.0, 270.0, 270.32, 270.32, 270.38, 270.55, 270.56, 270.56, 270.63, 270.29, 270.39, 269.91, 270.44, 270.44, 270.01, 270.65, 270.62, 270.62, 270.6, 270.55, 270.55, 270.57, 270.53, 270.56, 270.01, 270.59, 169.9, 189.18, 200.76, 209.82, 249.96, 270.71, 270.0, 270.0, 270.0, 270.0, 259.72, 255.33, 270.0, 270.0, 270.0, 270.0, 270.0, 270.0, 270.0, 270.0, 270.0, 270.0, 270.0]}, {\"hoverlabel\": {\"namelength\": 0}, \"hovertemplate\": \"Class=A<br>S1 Input PT=%{x}<br>S1 Output PT=%{y}<br>S1 Output Flow=%{z}<br>Temperature=%{marker.color}\", \"legendgroup\": \"Class=A\", \"marker\": {\"color\": [57.5, 60.0, 66.065, 72.5, 75.05, 73.605, 62.5, 59.5, 55.55, 55.48, 60.48, 65.48, 70.48, 75.48, 76.48, 70.48, 60.48, 50.48, 55.29, 62.88, 67.96, 73.04, 76.54, 72.61, 62.5, 52.5, 53.83, 58.83, 64.83, 66.83, 75.33, 73.33, 65.83, 55.83, 57.86, 62.86, 67.86, 72.86, 77.86, 72.86, 67.86, 62.86, 57.86, 55.25, 59.0, 65.0, 69.5, 74.375, 79.25, 65.0, 55.0, 60.0, 67.345, 74.69, 75.0, 75.0, 67.965, 60.93, 53.895, 60.0, 67.34, 74.68, 75.0, 70.25, 65.5, 60.75, 56.0, 57.5, 62.34, 67.18, 72.02, 70.0, 67.98, 65.96, 63.94, 55.0, 58.045, 61.09, 64.135, 67.18, 70.225, 73.27, 68.0, 62.73, 57.46, 57.96, 66.59, 75.01, 83.57, 86.76, 81.5, 72.99, 65.67, 62.22, 64.5, 68.92, 76.76, 78.37, 80.61, 75.65, 71.59, 63.56, 54.21, 61.75, 66.71, 76.39, 80.3, 82.7, 74.36, 66.66, 64.06, 63.84, 57.53, 61.43, 68.04, 71.03, 76.5, 75.81, 68.05, 67.75, 67.74, 65.09, 75.08, 75.99, 76.81, 84.21, 83.14, 74.9, 69.16, 63.47], \"coloraxis\": \"coloraxis\", \"symbol\": \"diamond\"}, \"mode\": \"markers\", \"name\": \"Class=A\", \"scene\": \"scene\", \"showlegend\": true, \"type\": \"scatter3d\", \"x\": [5.0, 5.0, 5.0, 5.0, 5.0, 5.0, 5.0, 5.0, 5.0, 4.49, 4.49, 4.5, 4.5, 4.5, 4.49, 4.49, 4.49, 4.49, 4.49, 4.49, 4.5, 4.5, 4.5, 4.49, 4.5, 4.5, 6.65, 6.65, 6.65, 6.65, 6.65, 6.65, 6.65, 6.65, 5.01, 5.01, 5.01, 5.01, 5.03, 5.03, 5.03, 5.03, 5.03, 5.01, 4.99, 4.99, 4.99, 5.0, 5.0, 5.0, 5.0, 5.0, 5.0, 5.0, 5.0, 5.0, 5.0, 5.0, 5.0, 5.0, 5.0, 5.0, 5.0, 5.0, 5.0, 5.0, 4.99, 5.0, 5.01, 5.01, 5.0, 5.0, 5.0, 5.0, 5.0, 5.01, 4.99, 4.99, 5.0, 5.0, 5.0, 5.0, 5.0, 5.0, 4.99, 5.0, 5.0, 5.0, 5.0, 5.0, 5.0, 5.0, 5.0, 5.0, 5.0, 5.0, 5.0, 5.0, 5.0, 5.0, 5.0, 5.0, 5.0, 5.0, 5.0, 5.0, 5.0, 5.0, 5.0, 5.0, 5.0, 5.0, 5.0, 5.0, 5.0, 5.0, 5.0, 5.0, 5.0, 5.0, 5.0, 5.0, 5.0, 5.0, 5.0, 5.0, 5.0, 5.0, 5.0, 5.0], \"y\": [55.0, 60.0, 72.13, 85.0, 90.1, 87.21, 65.0, 59.0, 51.1, 50.96, 60.96, 70.96, 80.96, 90.96, 92.96, 80.96, 60.96, 40.96, 50.58, 65.76, 75.92, 86.08, 93.08, 85.22, 65.0, 45.0, 47.66, 57.66, 69.66, 73.66, 90.66, 86.66, 71.66, 51.66, 55.72, 65.72, 75.72, 85.72, 95.72, 85.72, 75.72, 65.72, 55.72, 50.5, 58.0, 70.0, 79.0, 88.75, 98.5, 70.0, 50.0, 60.0, 74.69, 89.38, 90.0, 90.0, 75.93, 61.86, 47.79, 60.0, 74.68, 89.36, 90.0, 80.5, 71.0, 61.5, 52.0, 55.0, 64.68, 74.36, 84.04, 80.0, 75.96, 71.92, 67.88, 50.0, 56.09, 62.18, 68.27, 74.36, 80.45, 86.54, 76.0, 65.46, 54.92, 55.92, 73.19, 90.01, 107.13, 113.53, 103.0, 85.99, 71.34, 64.44, 69.0, 77.83, 93.53, 96.74, 101.23, 91.3, 83.17, 67.13, 48.43, 63.49, 73.43, 92.78, 100.6, 105.4, 88.72, 73.32, 68.13, 67.67, 55.06, 62.85, 76.08, 82.06, 92.99, 91.63, 76.1, 75.51, 75.47, 70.19, 90.15, 91.98, 93.63, 108.43, 106.29, 89.8, 78.32, 66.93], \"z\": [300.0, 367.0, 376.0, 424.185, 462.496, 369.0, 275.504, 268.0, 288.512, 250.96, 290.96, 330.96, 370.96, 410.96, 420.96, 390.96, 360.96, 330.96, 250.2, 290.2, 330.2, 370.2, 400.0, 350.0, 310.0, 270.0, 250.12, 290.97, 331.82, 372.67, 400.25, 350.26, 300.27, 260.16, 240.93, 270.89, 300.89, 350.83, 420.97, 400.77, 340.77, 280.68, 250.79, 219.59, 219.83, 220.07, 220.07, 219.83, 219.71, 219.68, 219.68, 300.0, 379.82, 459.64, 400.0, 370.5, 341.0, 311.5, 282.0, 250.0, 279.86, 309.72, 339.58, 369.44, 399.3, 429.16, 300.5, 250.5, 280.82, 311.14, 341.46, 371.78, 402.1, 300.5, 198.9, 270.0, 315.52, 361.04, 406.56, 452.08, 375.0, 297.92, 220.84, 224.43, 224.46, 300.0, 367.0, 376.0, 424.185, 462.496, 369.0, 275.504, 268.0, 288.512, 300.0, 367.0, 376.0, 424.185, 462.496, 369.0, 275.504, 268.0, 288.512, 300.0, 367.0, 376.0, 424.185, 462.496, 369.0, 275.504, 268.0, 288.512, 300.0, 367.0, 376.0, 424.185, 462.496, 369.0, 275.504, 268.0, 288.512, 300.0, 367.0, 376.0, 424.185, 462.496, 369.0, 275.504, 268.0, 288.512]}, {\"hoverlabel\": {\"namelength\": 0}, \"hovertemplate\": \"Class=C<br>S1 Input PT=%{x}<br>S1 Output PT=%{y}<br>S1 Output Flow=%{z}<br>Temperature=%{marker.color}\", \"legendgroup\": \"Class=C\", \"marker\": {\"color\": [55.52, 55.52, 55.515, 55.54, 55.545, 55.545, 55.545, 55.545, 55.545, 55.545, 55.545, 55.545, 57.53, 58.12, 52.665, 52.665, 52.665, 52.665, 52.665, 52.665, 52.665, 52.665, 52.665, 52.665, 52.665, 52.665, 52.665, 52.665, 52.665, 52.66, 52.66, 54.155, 54.155, 54.155, 54.155, 54.155, 54.155, 54.155, 54.155, 54.155, 54.155, 54.155, 54.155, 54.155, 54.155, 55.14, 55.14, 55.14, 55.14, 55.14, 55.14, 55.14, 55.14, 55.14, 55.14, 55.14, 55.14, 55.14, 55.14, 51.945, 51.95, 51.95, 51.95, 51.945, 51.945, 51.945, 51.945, 51.945, 51.945, 51.945, 51.945, 51.94, 51.94, 51.94, 51.94, 51.94, 51.94, 51.94, 51.94, 51.94, 51.94, 51.94, 51.935, 51.935, 51.935, 51.935, 51.935, 51.935, 52.78, 52.78, 52.78, 52.78, 52.78, 52.78, 52.78, 52.78, 52.78, 52.78, 52.785, 52.785, 52.82, 52.82, 52.82, 52.82, 52.82, 52.815, 52.82, 52.82, 52.82, 52.82, 52.815, 52.815, 55.83, 55.86, 55.91, 55.92, 55.94, 55.97, 55.98, 56.01, 56.06, 56.07, 56.11, 56.12, 57.78, 59.84, 55.79, 55.83, 55.86, 55.86, 55.87, 55.91, 55.95, 55.96, 55.97, 56.01, 56.04, 56.08, 56.87, 58.33, 55.79, 55.79, 55.8, 55.81, 55.83, 55.87, 55.91, 55.95, 55.96, 56.0, 56.03, 56.05, 57.23, 58.4, 55.76, 55.81, 55.84, 55.85, 55.89, 55.93, 55.93, 55.97, 55.97, 56.0, 56.05, 56.09, 58.36, 58.89, 55.76, 55.8, 55.84, 55.87, 55.91, 55.95, 55.96, 55.99, 56.04, 56.08, 56.09, 56.12, 57.49, 58.34], \"coloraxis\": \"coloraxis\", \"symbol\": \"square\"}, \"mode\": \"markers\", \"name\": \"Class=C\", \"scene\": \"scene\", \"showlegend\": true, \"type\": \"scatter3d\", \"x\": [1.13, 1.45, 2.0, 2.396666667, 2.831666667, 3.266666667, 3.701666667, 4.136666667, 4.571666667, 5.006666667, 5.441666667000001, 5.876666667, 6.311666667000001, 5.0, 4.98, 3.5, 2.02, 0.54, 1.5, 2.46, 3.42, 4.38, 4.99, 4.99, 4.99, 4.99, 4.99, 4.99, 4.99, 5.01, 5.01, 4.815, 3.768333333, 2.833333333, 1.7983333330000002, 1.6983333330000001, 1.598333333, 1.4983333330000002, 1.398333333, 1.298333333, 1.4983333330000002, 1.6983333330000001, 2.833333333, 3.968333333, 5.103333333, 4.39, 4.25, 3.996666667, 3.714666667, 3.146666667, 2.769333333, 2.3443333330000002, 1.9193333330000002, 1.4943333330000002, 1.269333333, 1.9193333330000002, 2.769333333, 3.714666667, 3.996666667, 4.0, 3.5, 2.673333333, 1.928333333, 1.183333333, 0.43833333329999996, 2.0, 3.561666667, 5.123333333, 5.01, 5.01, 5.01, 3.7, 2.39, 1.08, 2.5, 3.92, 4.5, 5.05, 5.0, 5.0, 3.6, 2.21, 0.82, 2.3, 3.78, 4.8, 4.9, 5.0, 4.09, 3.69, 3.29, 2.89, 2.49, 2.09, 1.69, 1.29, 2.09, 2.89, 3.69, 4.09, 5.33, 4.01, 3.88, 2.38, 1.88, 1.88, 1.23, 1.23, 3.55, 4.33, 5.2, 5.6, 0.9, 1.59, 2.15, 2.52, 3.11, 3.42, 3.99, 4.1, 4.55, 4.67, 5.14, 5.44, 6.04, 6.52, 1.03, 1.11, 1.53, 1.65, 1.73, 2.21, 2.89, 3.04, 3.15, 3.49, 3.49, 3.91, 4.55, 4.91, 1.38, 1.58, 1.76, 1.88, 2.24, 2.27, 2.31, 2.52, 3.01, 3.2, 3.85, 4.17, 4.45, 5.06, 1.5, 1.7, 2.31, 2.35, 2.46, 3.1, 3.31, 3.85, 4.02, 4.17, 4.23, 4.9, 5.22, 5.54, 1.7, 1.86, 2.15, 2.62, 2.77, 3.3, 3.51, 3.85, 3.91, 3.96, 4.5, 4.75, 4.98, 5.2], \"y\": [51.04, 51.04, 51.03, 51.08, 51.09, 51.09, 51.09, 51.09, 51.09, 51.09, 51.09, 51.09, 55.06, 56.24, 45.33, 45.33, 45.33, 45.33, 45.33, 45.33, 45.33, 45.33, 45.33, 45.33, 45.33, 45.33, 45.33, 45.33, 45.33, 45.32, 45.32, 48.31, 48.31, 48.31, 48.31, 48.31, 48.31, 48.31, 48.31, 48.31, 48.31, 48.31, 48.31, 48.31, 48.31, 50.28, 50.28, 50.28, 50.28, 50.28, 50.28, 50.28, 50.28, 50.28, 50.28, 50.28, 50.28, 50.28, 50.28, 43.89, 43.9, 43.9, 43.9, 43.89, 43.89, 43.89, 43.89, 43.89, 43.89, 43.89, 43.89, 43.88, 43.88, 43.88, 43.88, 43.88, 43.88, 43.88, 43.88, 43.88, 43.88, 43.88, 43.87, 43.87, 43.87, 43.87, 43.87, 43.87, 45.56, 45.56, 45.56, 45.56, 45.56, 45.56, 45.56, 45.56, 45.56, 45.56, 45.57, 45.57, 45.64, 45.64, 45.64, 45.64, 45.64, 45.63, 45.64, 45.64, 45.64, 45.64, 45.63, 45.63, 51.66, 51.72, 51.82, 51.83, 51.88, 51.94, 51.95, 52.02, 52.11, 52.14, 52.23, 52.24, 55.57, 59.69, 51.59, 51.67, 51.71, 51.72, 51.74, 51.82, 51.89, 51.93, 51.93, 52.02, 52.08, 52.16, 53.74, 56.65, 51.58, 51.58, 51.59, 51.62, 51.65, 51.74, 51.82, 51.9, 51.92, 52.0, 52.07, 52.09, 54.45, 56.8, 51.53, 51.63, 51.68, 51.7, 51.79, 51.85, 51.86, 51.94, 51.94, 52.01, 52.1, 52.19, 56.73, 57.78, 51.52, 51.59, 51.68, 51.73, 51.82, 51.9, 51.92, 51.98, 52.08, 52.15, 52.19, 52.24, 54.98, 56.67], \"z\": [270.48, 270.48, 270.07, 270.04, 270.06, 270.06, 270.55, 259.87, 253.92, 229.96, 210.21, 202.5, 179.47, 175.89, 220.15, 219.88, 220.07, 219.93, 219.93, 220.12, 219.93, 220.09, 220.01, 219.84, 219.84, 220.14, 220.22, 220.21, 220.21, 220.1, 219.9, 6.63, 9.17, 4.89, 9.73, 9.73, 7.89, 10.37, 10.59, 10.59, 9.79, 10.02, 9.58, 9.32, 9.32, 270.46, 270.46, 270.39, 270.52, 270.52, 270.64, 270.3, 270.64, 270.64, 270.52, 270.14, 270.57, 270.57, 270.55, 224.53, 224.59, 224.59, 224.68, 224.66, 224.61, 224.43, 224.43, 224.68, 224.59, 224.57, 224.57, 224.6, 224.62, 224.45, 224.45, 224.57, 224.77, 224.71, 224.64, 224.77, 224.58, 224.49, 224.6, 224.65, 224.85, 224.76, 224.66, 224.79, 219.3, 219.15, 219.3, 219.24, 219.24, 219.27, 219.38, 219.45, 219.45, 219.49, 219.51, 219.43, 219.2, 219.54, 219.37, 219.19, 219.19, 219.28, 219.17, 219.29, 219.29, 219.22, 219.11, 219.11, 270.48, 270.48, 270.07, 270.04, 270.06, 270.06, 270.55, 259.87, 253.92, 229.96, 210.21, 202.5, 179.47, 175.89, 270.48, 270.48, 270.07, 270.04, 270.06, 270.06, 270.55, 259.87, 253.92, 229.96, 210.21, 202.5, 179.47, 175.89, 270.48, 270.48, 270.07, 270.04, 270.06, 270.06, 270.55, 259.87, 253.92, 229.96, 210.21, 202.5, 179.47, 175.89, 270.48, 270.48, 270.07, 270.04, 270.06, 270.06, 270.55, 259.87, 253.92, 229.96, 210.21, 202.5, 179.47, 175.89, 270.48, 270.48, 270.07, 270.04, 270.06, 270.06, 270.55, 259.87, 253.92, 229.96, 210.21, 202.5, 179.47, 175.89]}, {\"hoverlabel\": {\"namelength\": 0}, \"hovertemplate\": \"Class=I<br>S1 Input PT=%{x}<br>S1 Output PT=%{y}<br>S1 Output Flow=%{z}<br>Temperature=%{marker.color}\", \"legendgroup\": \"Class=I\", \"marker\": {\"color\": [49.015, 45.015, 43.515, 42.515, 41.015, 42.515, 47.515, 50.015, 52.515, 50.0, 47.145, 44.29, 41.435, 45.0, 48.565, 52.13, 49.5, 47.065, 44.63, 42.195, 46.5, 50.805, 52.25, 50.5, 48.75, 47.0, 45.25, 43.5, 41.75, 43.0, 44.25, 45.5, 46.75, 48.0, 49.25, 51.25, 48.5, 45.75, 43.0, 42.0, 44.45, 46.9, 49.35, 51.8, 53.99, 53.99, 53.99, 48.5, 43.01, 37.52, 40.0, 52.99, 47.99, 45.49, 42.49, 40.49, 42.99, 47.99, 52.99, 49.72, 46.855, 44.445, 42.155, 43.885, 45.555, 48.335, 50.91, 49.015, 45.015, 43.515, 42.515, 41.015, 42.515, 47.515, 50.015, 52.515, 50.02, 49.36, 48.4, 47.43, 43.94, 40.54, 43.79, 44.37, 46.9, 48.32, 47.68, 46.4, 43.46, 41.17, 38.11, 35.5, 38.91, 40.61, 42.56, 43.55, 50.32, 47.37, 47.25, 45.34, 43.35, 40.44, 44.3, 47.61, 48.95, 50.14, 49.57, 47.33, 45.09, 43.76, 42.07, 38.27, 40.19, 42.12, 42.22, 43.36, 47.54, 44.7, 41.08, 40.48, 36.5, 32.92, 34.08, 35.92, 39.45, 43.03], \"coloraxis\": \"coloraxis\", \"symbol\": \"x\"}, \"mode\": \"markers\", \"name\": \"Class=I\", \"scene\": \"scene\", \"showlegend\": true, \"type\": \"scatter3d\", \"x\": [4.5, 4.5, 4.5, 4.5, 4.5, 4.5, 4.5, 4.5, 4.5, 5.11, 5.09, 5.08, 5.08, 5.05, 5.05, 5.03, 5.91, 5.93, 5.96, 5.99, 5.99, 5.95, 4.5, 4.51, 4.5, 4.5, 4.5, 4.5, 4.5, 4.5, 4.5, 4.5, 4.48, 4.48, 4.49, 4.5, 4.49, 4.51, 4.51, 4.49, 4.51, 4.51, 4.51, 4.51, 4.51, 4.49, 4.49, 4.51, 4.5, 4.5, 4.51, 4.5, 4.5, 4.5, 4.5, 4.5, 4.5, 4.5, 4.5, 6.0, 6.0, 6.0, 6.0, 6.01, 6.0, 6.0, 6.0, 4.5, 4.5, 4.5, 4.5, 4.5, 4.5, 4.5, 4.5, 4.5, 4.51, 4.49, 4.49, 4.51, 4.5, 4.5, 4.51, 4.49, 4.49, 4.5, 4.51, 4.49, 4.49, 4.51, 4.5, 4.5, 4.51, 4.49, 4.49, 4.5, 4.51, 4.49, 4.49, 4.51, 4.5, 4.5, 4.51, 4.49, 4.49, 4.5, 4.51, 4.49, 4.49, 4.51, 4.5, 4.5, 4.51, 4.49, 4.49, 4.5, 4.51, 4.49, 4.49, 4.51, 4.5, 4.5, 4.51, 4.49, 4.49, 4.5], \"y\": [38.03, 30.03, 27.03, 25.03, 22.03, 25.03, 35.03, 40.03, 45.03, 40.0, 34.29, 28.58, 22.87, 30.0, 37.13, 44.26, 39.0, 34.13, 29.26, 24.39, 33.0, 41.61, 44.5, 41.0, 37.5, 34.0, 30.5, 27.0, 23.5, 26.0, 28.5, 31.0, 33.5, 36.0, 38.5, 42.5, 37.0, 31.5, 26.0, 24.0, 28.9, 33.8, 38.7, 43.6, 47.98, 47.98, 47.98, 37.0, 26.02, 15.04, 20.0, 45.98, 35.98, 30.98, 24.98, 20.98, 25.98, 35.98, 45.98, 39.44, 33.71, 28.89, 24.31, 27.77, 31.11, 36.67, 41.82, 38.03, 30.03, 27.03, 25.03, 22.03, 25.03, 35.03, 40.03, 45.03, 40.04, 38.72, 36.8, 34.86, 27.87, 21.09, 27.59, 28.74, 33.8, 36.65, 35.35, 32.8, 26.92, 22.35, 16.23, 11.0, 17.81, 21.22, 25.12, 27.1, 40.65, 34.74, 34.5, 30.68, 26.7, 20.87, 28.61, 35.21, 37.91, 40.28, 39.14, 34.67, 30.17, 27.52, 24.13, 16.55, 20.39, 24.23, 24.45, 26.72, 35.08, 29.39, 22.16, 20.96, 13.01, 5.84, 8.16, 11.84, 18.91, 26.07], \"z\": [260.31, 250.52, 240.32, 230.33, 220.33, 240.34, 250.34, 260.41, 265.41, 218.87, 218.75, 219.06, 219.06, 218.75, 218.84, 218.65, 224.69, 224.72, 224.92, 224.89, 224.85, 224.85, 265.0, 259.68, 254.36, 249.04, 243.72, 238.4, 233.08, 227.76, 245.0, 262.24, 270.0, 270.54, 270.27, 265.0, 259.91, 254.82, 249.73, 244.64, 225.0, 237.0, 249.0, 261.0, 270.41, 265.0, 235.0, 221.39333330000002, 234.0, 246.60666669999998, 259.2133333, 269.94, 259.94, 240.21, 230.36, 210.34, 230.36, 249.3, 269.94, 224.92, 224.59, 224.92, 224.92, 224.8, 224.74, 224.87, 224.87, 260.31, 250.52, 240.32, 230.33, 220.33, 240.34, 250.34, 260.41, 265.41, 233.27, 229.21, 221.75, 207.04, 214.51, 221.43, 226.04, 232.38, 246.12, 251.97, 246.21, 231.48, 229.66, 228.26, 230.0, 232.72, 239.41, 253.87, 263.99, 266.32, 245.58, 243.42, 233.83, 228.26, 230.67, 232.15, 234.65, 238.4, 247.79, 248.29, 242.37, 229.23, 228.54, 215.96, 222.01, 236.15, 240.45, 253.01, 267.0, 278.17, 254.67, 253.01, 250.99, 238.45, 239.58, 251.85, 255.29, 257.49, 267.24, 282.04]}],\n",
              "                        {\"coloraxis\": {\"colorbar\": {\"title\": {\"text\": \"Temperature\"}}, \"colorscale\": [[0.0, \"#0d0887\"], [0.1111111111111111, \"#46039f\"], [0.2222222222222222, \"#7201a8\"], [0.3333333333333333, \"#9c179e\"], [0.4444444444444444, \"#bd3786\"], [0.5555555555555556, \"#d8576b\"], [0.6666666666666666, \"#ed7953\"], [0.7777777777777778, \"#fb9f3a\"], [0.8888888888888888, \"#fdca26\"], [1.0, \"#f0f921\"]]}, \"legend\": {\"tracegroupgap\": 0}, \"margin\": {\"t\": 60}, \"scene\": {\"domain\": {\"x\": [0.0, 1.0], \"y\": [0.0, 1.0]}, \"xaxis\": {\"title\": {\"text\": \"S1 Input PT\"}}, \"yaxis\": {\"title\": {\"text\": \"S1 Output PT\"}}, \"zaxis\": {\"title\": {\"text\": \"S1 Output Flow\"}}}, \"template\": {\"data\": {\"bar\": [{\"error_x\": {\"color\": \"#2a3f5f\"}, \"error_y\": {\"color\": \"#2a3f5f\"}, \"marker\": {\"line\": {\"color\": \"#E5ECF6\", \"width\": 0.5}}, \"type\": \"bar\"}], \"barpolar\": [{\"marker\": {\"line\": {\"color\": \"#E5ECF6\", \"width\": 0.5}}, \"type\": \"barpolar\"}], \"carpet\": [{\"aaxis\": {\"endlinecolor\": \"#2a3f5f\", \"gridcolor\": \"white\", \"linecolor\": \"white\", \"minorgridcolor\": \"white\", \"startlinecolor\": \"#2a3f5f\"}, \"baxis\": {\"endlinecolor\": \"#2a3f5f\", \"gridcolor\": \"white\", \"linecolor\": \"white\", \"minorgridcolor\": \"white\", \"startlinecolor\": \"#2a3f5f\"}, \"type\": \"carpet\"}], \"choropleth\": [{\"colorbar\": {\"outlinewidth\": 0, \"ticks\": \"\"}, \"type\": \"choropleth\"}], \"contour\": [{\"colorbar\": {\"outlinewidth\": 0, \"ticks\": \"\"}, \"colorscale\": [[0.0, \"#0d0887\"], [0.1111111111111111, \"#46039f\"], [0.2222222222222222, \"#7201a8\"], [0.3333333333333333, \"#9c179e\"], [0.4444444444444444, \"#bd3786\"], [0.5555555555555556, \"#d8576b\"], [0.6666666666666666, \"#ed7953\"], [0.7777777777777778, \"#fb9f3a\"], [0.8888888888888888, \"#fdca26\"], [1.0, \"#f0f921\"]], \"type\": \"contour\"}], \"contourcarpet\": [{\"colorbar\": {\"outlinewidth\": 0, \"ticks\": \"\"}, \"type\": \"contourcarpet\"}], \"heatmap\": [{\"colorbar\": {\"outlinewidth\": 0, \"ticks\": \"\"}, \"colorscale\": [[0.0, \"#0d0887\"], [0.1111111111111111, \"#46039f\"], [0.2222222222222222, \"#7201a8\"], [0.3333333333333333, \"#9c179e\"], [0.4444444444444444, \"#bd3786\"], [0.5555555555555556, \"#d8576b\"], [0.6666666666666666, \"#ed7953\"], [0.7777777777777778, \"#fb9f3a\"], [0.8888888888888888, \"#fdca26\"], [1.0, \"#f0f921\"]], \"type\": \"heatmap\"}], \"heatmapgl\": [{\"colorbar\": {\"outlinewidth\": 0, \"ticks\": \"\"}, \"colorscale\": [[0.0, \"#0d0887\"], [0.1111111111111111, \"#46039f\"], [0.2222222222222222, \"#7201a8\"], [0.3333333333333333, \"#9c179e\"], [0.4444444444444444, \"#bd3786\"], [0.5555555555555556, \"#d8576b\"], [0.6666666666666666, \"#ed7953\"], [0.7777777777777778, \"#fb9f3a\"], [0.8888888888888888, \"#fdca26\"], [1.0, \"#f0f921\"]], \"type\": \"heatmapgl\"}], \"histogram\": [{\"marker\": {\"colorbar\": {\"outlinewidth\": 0, \"ticks\": \"\"}}, \"type\": \"histogram\"}], \"histogram2d\": [{\"colorbar\": {\"outlinewidth\": 0, \"ticks\": \"\"}, \"colorscale\": [[0.0, \"#0d0887\"], [0.1111111111111111, \"#46039f\"], [0.2222222222222222, \"#7201a8\"], [0.3333333333333333, \"#9c179e\"], [0.4444444444444444, \"#bd3786\"], [0.5555555555555556, \"#d8576b\"], [0.6666666666666666, \"#ed7953\"], [0.7777777777777778, \"#fb9f3a\"], [0.8888888888888888, \"#fdca26\"], [1.0, \"#f0f921\"]], \"type\": \"histogram2d\"}], \"histogram2dcontour\": [{\"colorbar\": {\"outlinewidth\": 0, \"ticks\": \"\"}, \"colorscale\": [[0.0, \"#0d0887\"], [0.1111111111111111, \"#46039f\"], [0.2222222222222222, \"#7201a8\"], [0.3333333333333333, \"#9c179e\"], [0.4444444444444444, \"#bd3786\"], [0.5555555555555556, \"#d8576b\"], [0.6666666666666666, \"#ed7953\"], [0.7777777777777778, \"#fb9f3a\"], [0.8888888888888888, \"#fdca26\"], [1.0, \"#f0f921\"]], \"type\": \"histogram2dcontour\"}], \"mesh3d\": [{\"colorbar\": {\"outlinewidth\": 0, \"ticks\": \"\"}, \"type\": \"mesh3d\"}], \"parcoords\": [{\"line\": {\"colorbar\": {\"outlinewidth\": 0, \"ticks\": \"\"}}, \"type\": \"parcoords\"}], \"pie\": [{\"automargin\": true, \"type\": \"pie\"}], \"scatter\": [{\"marker\": {\"colorbar\": {\"outlinewidth\": 0, \"ticks\": \"\"}}, \"type\": \"scatter\"}], \"scatter3d\": [{\"line\": {\"colorbar\": {\"outlinewidth\": 0, \"ticks\": \"\"}}, \"marker\": {\"colorbar\": {\"outlinewidth\": 0, \"ticks\": \"\"}}, \"type\": \"scatter3d\"}], \"scattercarpet\": [{\"marker\": {\"colorbar\": {\"outlinewidth\": 0, \"ticks\": \"\"}}, \"type\": \"scattercarpet\"}], \"scattergeo\": [{\"marker\": {\"colorbar\": {\"outlinewidth\": 0, \"ticks\": \"\"}}, \"type\": \"scattergeo\"}], \"scattergl\": [{\"marker\": {\"colorbar\": {\"outlinewidth\": 0, \"ticks\": \"\"}}, \"type\": \"scattergl\"}], \"scattermapbox\": [{\"marker\": {\"colorbar\": {\"outlinewidth\": 0, \"ticks\": \"\"}}, \"type\": \"scattermapbox\"}], \"scatterpolar\": [{\"marker\": {\"colorbar\": {\"outlinewidth\": 0, \"ticks\": \"\"}}, \"type\": \"scatterpolar\"}], \"scatterpolargl\": [{\"marker\": {\"colorbar\": {\"outlinewidth\": 0, \"ticks\": \"\"}}, \"type\": \"scatterpolargl\"}], \"scatterternary\": [{\"marker\": {\"colorbar\": {\"outlinewidth\": 0, \"ticks\": \"\"}}, \"type\": \"scatterternary\"}], \"surface\": [{\"colorbar\": {\"outlinewidth\": 0, \"ticks\": \"\"}, \"colorscale\": [[0.0, \"#0d0887\"], [0.1111111111111111, \"#46039f\"], [0.2222222222222222, \"#7201a8\"], [0.3333333333333333, \"#9c179e\"], [0.4444444444444444, \"#bd3786\"], [0.5555555555555556, \"#d8576b\"], [0.6666666666666666, \"#ed7953\"], [0.7777777777777778, \"#fb9f3a\"], [0.8888888888888888, \"#fdca26\"], [1.0, \"#f0f921\"]], \"type\": \"surface\"}], \"table\": [{\"cells\": {\"fill\": {\"color\": \"#EBF0F8\"}, \"line\": {\"color\": \"white\"}}, \"header\": {\"fill\": {\"color\": \"#C8D4E3\"}, \"line\": {\"color\": \"white\"}}, \"type\": \"table\"}]}, \"layout\": {\"annotationdefaults\": {\"arrowcolor\": \"#2a3f5f\", \"arrowhead\": 0, \"arrowwidth\": 1}, \"coloraxis\": {\"colorbar\": {\"outlinewidth\": 0, \"ticks\": \"\"}}, \"colorscale\": {\"diverging\": [[0, \"#8e0152\"], [0.1, \"#c51b7d\"], [0.2, \"#de77ae\"], [0.3, \"#f1b6da\"], [0.4, \"#fde0ef\"], [0.5, \"#f7f7f7\"], [0.6, \"#e6f5d0\"], [0.7, \"#b8e186\"], [0.8, \"#7fbc41\"], [0.9, \"#4d9221\"], [1, \"#276419\"]], \"sequential\": [[0.0, \"#0d0887\"], [0.1111111111111111, \"#46039f\"], [0.2222222222222222, \"#7201a8\"], [0.3333333333333333, \"#9c179e\"], [0.4444444444444444, \"#bd3786\"], [0.5555555555555556, \"#d8576b\"], [0.6666666666666666, \"#ed7953\"], [0.7777777777777778, \"#fb9f3a\"], [0.8888888888888888, \"#fdca26\"], [1.0, \"#f0f921\"]], \"sequentialminus\": [[0.0, \"#0d0887\"], [0.1111111111111111, \"#46039f\"], [0.2222222222222222, \"#7201a8\"], [0.3333333333333333, \"#9c179e\"], [0.4444444444444444, \"#bd3786\"], [0.5555555555555556, \"#d8576b\"], [0.6666666666666666, \"#ed7953\"], [0.7777777777777778, \"#fb9f3a\"], [0.8888888888888888, \"#fdca26\"], [1.0, \"#f0f921\"]]}, \"colorway\": [\"#636efa\", \"#EF553B\", \"#00cc96\", \"#ab63fa\", \"#FFA15A\", \"#19d3f3\", \"#FF6692\", \"#B6E880\", \"#FF97FF\", \"#FECB52\"], \"font\": {\"color\": \"#2a3f5f\"}, \"geo\": {\"bgcolor\": \"white\", \"lakecolor\": \"white\", \"landcolor\": \"#E5ECF6\", \"showlakes\": true, \"showland\": true, \"subunitcolor\": \"white\"}, \"hoverlabel\": {\"align\": \"left\"}, \"hovermode\": \"closest\", \"mapbox\": {\"style\": \"light\"}, \"paper_bgcolor\": \"white\", \"plot_bgcolor\": \"#E5ECF6\", \"polar\": {\"angularaxis\": {\"gridcolor\": \"white\", \"linecolor\": \"white\", \"ticks\": \"\"}, \"bgcolor\": \"#E5ECF6\", \"radialaxis\": {\"gridcolor\": \"white\", \"linecolor\": \"white\", \"ticks\": \"\"}}, \"scene\": {\"xaxis\": {\"backgroundcolor\": \"#E5ECF6\", \"gridcolor\": \"white\", \"gridwidth\": 2, \"linecolor\": \"white\", \"showbackground\": true, \"ticks\": \"\", \"zerolinecolor\": \"white\"}, \"yaxis\": {\"backgroundcolor\": \"#E5ECF6\", \"gridcolor\": \"white\", \"gridwidth\": 2, \"linecolor\": \"white\", \"showbackground\": true, \"ticks\": \"\", \"zerolinecolor\": \"white\"}, \"zaxis\": {\"backgroundcolor\": \"#E5ECF6\", \"gridcolor\": \"white\", \"gridwidth\": 2, \"linecolor\": \"white\", \"showbackground\": true, \"ticks\": \"\", \"zerolinecolor\": \"white\"}}, \"shapedefaults\": {\"line\": {\"color\": \"#2a3f5f\"}}, \"ternary\": {\"aaxis\": {\"gridcolor\": \"white\", \"linecolor\": \"white\", \"ticks\": \"\"}, \"baxis\": {\"gridcolor\": \"white\", \"linecolor\": \"white\", \"ticks\": \"\"}, \"bgcolor\": \"#E5ECF6\", \"caxis\": {\"gridcolor\": \"white\", \"linecolor\": \"white\", \"ticks\": \"\"}}, \"title\": {\"x\": 0.05}, \"xaxis\": {\"automargin\": true, \"gridcolor\": \"white\", \"linecolor\": \"white\", \"ticks\": \"\", \"title\": {\"standoff\": 15}, \"zerolinecolor\": \"white\", \"zerolinewidth\": 2}, \"yaxis\": {\"automargin\": true, \"gridcolor\": \"white\", \"linecolor\": \"white\", \"ticks\": \"\", \"title\": {\"standoff\": 15}, \"zerolinecolor\": \"white\", \"zerolinewidth\": 2}}}},\n",
              "                        {\"responsive\": true}\n",
              "                    ).then(function(){\n",
              "                            \n",
              "var gd = document.getElementById('f7c42970-4540-417b-9bb3-6b4efec8f6f5');\n",
              "var x = new MutationObserver(function (mutations, observer) {{\n",
              "        var display = window.getComputedStyle(gd).display;\n",
              "        if (!display || display === 'none') {{\n",
              "            console.log([gd, 'removed!']);\n",
              "            Plotly.purge(gd);\n",
              "            observer.disconnect();\n",
              "        }}\n",
              "}});\n",
              "\n",
              "// Listen for the removal of the full notebook cells\n",
              "var notebookContainer = gd.closest('#notebook-container');\n",
              "if (notebookContainer) {{\n",
              "    x.observe(notebookContainer, {childList: true});\n",
              "}}\n",
              "\n",
              "// Listen for the clearing of the current output cell\n",
              "var outputEl = gd.closest('.output');\n",
              "if (outputEl) {{\n",
              "    x.observe(outputEl, {childList: true});\n",
              "}}\n",
              "\n",
              "                        })\n",
              "                };\n",
              "                \n",
              "            </script>\n",
              "        </div>\n",
              "</body>\n",
              "</html>"
            ]
          },
          "metadata": {
            "tags": []
          }
        }
      ]
    },
    {
      "cell_type": "code",
      "metadata": {
        "id": "t-7ZbJK7sTLe",
        "colab_type": "code",
        "colab": {}
      },
      "source": [
        ""
      ],
      "execution_count": null,
      "outputs": []
    }
  ]
}